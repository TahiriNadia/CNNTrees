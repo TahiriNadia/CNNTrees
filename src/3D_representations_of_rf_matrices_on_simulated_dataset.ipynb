{
  "nbformat": 4,
  "nbformat_minor": 0,
  "metadata": {
    "colab": {
      "name": "3D representations of rf_matrices on simulated dataset.ipynb",
      "provenance": [],
      "collapsed_sections": [],
      "include_colab_link": true
    },
    "kernelspec": {
      "name": "python3",
      "display_name": "Python 3"
    },
    "accelerator": "GPU"
  },
  "cells": [
    {
      "cell_type": "markdown",
      "metadata": {
        "id": "view-in-github",
        "colab_type": "text"
      },
      "source": [
        "<a href=\"https://colab.research.google.com/github/TahiriNadia/ML_DL_Classification_Trees/blob/master/src/3D_representations_of_rf_matrices_on_simulated_dataset.ipynb\" target=\"_parent\"><img src=\"https://colab.research.google.com/assets/colab-badge.svg\" alt=\"Open In Colab\"/></a>"
      ]
    },
    {
      "cell_type": "markdown",
      "metadata": {
        "id": "Gic-3uAuSIKo"
      },
      "source": [
        "####Start"
      ]
    },
    {
      "cell_type": "code",
      "metadata": {
        "id": "bzx78yVlZPN1"
      },
      "source": [
        "import os\n",
        "import numpy  as np\n",
        "import urllib.request as url\n",
        "from array import *\n",
        "import random\n",
        "import tensorflow as tf\n",
        "# tf.compat.v1.disable_eager_execution()"
      ],
      "execution_count": null,
      "outputs": []
    },
    {
      "cell_type": "markdown",
      "metadata": {
        "id": "54_f6raUU5Vh"
      },
      "source": [
        "### Load simulated dataset"
      ]
    },
    {
      "cell_type": "code",
      "metadata": {
        "id": "Wh9CNFRMPy85",
        "colab": {
          "base_uri": "https://localhost:8080/"
        },
        "outputId": "a0e09235-2faf-41a9-dd20-fa3c200967ff"
      },
      "source": [
        "# b'20',    b'8',     b'1',       b'0',           b'0'\n",
        "# nb_arbre, nb_taxon, nb_cluster, percent_noise, nb_eloignement\n",
        "def mask_cluster (nb_cluster):\n",
        "    cluster = np.zeros((1,NB_CLUSTERS))\n",
        "    cluster[0,nb_cluster-1]=1\n",
        "    return cluster\n",
        "\n",
        "NB_CLUSTERS=5\n",
        "NB_DEPTH=5808\n",
        "NB_N=20\n",
        "\n",
        "values_i = np.zeros((NB_DEPTH,NB_N,NB_N))\n",
        "cluster_i = np.zeros((NB_DEPTH,NB_CLUSTERS))\n",
        "nb_eloignements = np.zeros((NB_DEPTH))\n",
        "cluster_ii = np.zeros((NB_DEPTH,NB_N,NB_CLUSTERS))\n",
        "\n",
        "fh = url.urlopen( \"https://github.com/TahiriNadia/ML_DL_Classification_Trees/raw/master/data/simulation/simulation_dataset\")\n",
        "depth = 0\n",
        "l_i = 1\n",
        "\n",
        "while True:\n",
        "    ligne = fh.readline()\n",
        "    nb_arbre,nb_taxon,nb_cluster,percent_noise,nb_eloignement = ligne.split()\n",
        "    cluster_i[depth]=mask_cluster(int(nb_cluster))\n",
        "    # cluster_ii[depth]=mask_cluster2(int(nb_cluster), int(nb_arbre))\n",
        "    nb_eloignements[depth]=nb_eloignement\n",
        "    for i in range(0, int(nb_arbre)):\n",
        "        ligne = fh.readline()\n",
        "        values_i [depth,i,:] = ligne.split()\n",
        "\n",
        "    ligne = fh.readline()\n",
        "    depth = depth + 1\n",
        "    l_i = l_i + int(nb_arbre) + 2\n",
        "    if not ligne:\n",
        "      break\n",
        "fh.close\n"
      ],
      "execution_count": null,
      "outputs": [
        {
          "output_type": "execute_result",
          "data": {
            "text/plain": [
              "<bound method HTTPResponse.close of <http.client.HTTPResponse object at 0x7f49cee0b890>>"
            ]
          },
          "metadata": {
            "tags": []
          },
          "execution_count": 3
        }
      ]
    },
    {
      "cell_type": "code",
      "metadata": {
        "id": "eHpvJhpxVQlh"
      },
      "source": [
        "def ConditionedSamples(x_values,y_values):\n",
        "  nonzero = np.squeeze(np.sum(x_values,axis=(1,2))!=0) # indexes of zero matrices\n",
        "  remoteness_down = (nb_eloignements >= 0)\n",
        "  remoteness_up = (nb_eloignements < 25)\n",
        "  remoteness = remoteness_down & remoteness_up\n",
        "  # only_four = (y_values[:,4]==0)\n",
        "\n",
        "  Conditioned_Index = nonzero & remoteness #& only_four\n",
        "  X, y, remotenesses = x_values[Conditioned_Index], y_values[Conditioned_Index], nb_eloignements[Conditioned_Index]\n",
        "  return X,y, Conditioned_Index\n",
        "\n",
        "X, y, Conditioned_Index= ConditionedSamples(values_i,cluster_i)\n"
      ],
      "execution_count": null,
      "outputs": []
    },
    {
      "cell_type": "code",
      "metadata": {
        "id": "QOlOyHa7Z71n",
        "colab": {
          "base_uri": "https://localhost:8080/"
        },
        "outputId": "cc7998d7-eadf-44c8-ad7a-63ba8f26efae"
      },
      "source": [
        "y.shape"
      ],
      "execution_count": null,
      "outputs": [
        {
          "output_type": "execute_result",
          "data": {
            "text/plain": [
              "(2105, 5)"
            ]
          },
          "metadata": {
            "tags": []
          },
          "execution_count": 28
        }
      ]
    },
    {
      "cell_type": "code",
      "metadata": {
        "id": "E5HrEttZM_0_"
      },
      "source": [
        "from sklearn.model_selection import train_test_split\n",
        "test_size = 0.1\n",
        "train_x,test_x, train_y, test_y = train_test_split(X,y,test_size=test_size)"
      ],
      "execution_count": null,
      "outputs": []
    },
    {
      "cell_type": "markdown",
      "metadata": {
        "id": "3euT7-Yap29g"
      },
      "source": [
        "## 3D Cubes"
      ]
    },
    {
      "cell_type": "code",
      "metadata": {
        "id": "Kg7tWXO0jG_y"
      },
      "source": [
        "# 6 bins convert into 3D\n",
        "\n",
        "@tf.function(experimental_relax_shapes=True)\n",
        "def tf_normalize(tensor):\n",
        "  tensor=tf.cast(tensor,tf.float32)\n",
        "  min = tf.reduce_min(tensor)\n",
        "  return tf.divide( \n",
        "      tf.subtract(tensor, min), \n",
        "      tf.add(tf.subtract(tf.reduce_max(tensor), min),tf.constant(1e-25,dtype=tf.float32))\n",
        "      )\n",
        "  \n",
        "@tf.function(experimental_relax_shapes=True)\n",
        "def to_3DCube(rf_matrix, claster_num=-1, length=20): \n",
        "  \n",
        "  New_dims=6 # number \"m\" in the article\n",
        "  NBins=tf.constant(New_dims, dtype=tf.int32)\n",
        "  Value_Range=tf.constant([0.,1.],dtype=tf.float32)\n",
        "\n",
        "  #length - number \"n\" in article\n",
        "  density =10\n",
        "  # length = rf_matrix.shape[0]\n",
        "  NBins=tf.constant(New_dims, dtype=tf.int32)\n",
        "  \n",
        "  updates=tf.ones(length)\n",
        "  # print(length)\n",
        "  @tf.function(experimental_relax_shapes=True)\n",
        "  def dens(row):\n",
        "    res = tf.cast(tf.histogram_fixed_width(tf_normalize(row), nbins=NBins ,value_range=Value_Range)/length*density, tf.int32)\n",
        "    return res\n",
        "\n",
        "  coords = tf.vectorized_map(dens, rf_matrix)\n",
        "\n",
        "  cube=tf.scatter_nd(coords,updates,tf.repeat(density,NBins))# 6D tensors with shape (10,10,10,10,10,10)\n",
        "  flatten_cube = tf.reshape(cube,tf.repeat(density*density, 3))#flatten to shape (100,100,100)\n",
        "  sparse_cube = tf.sparse.from_dense(flatten_cube) # compact format of 3D tensor\n",
        "  return (sparse_cube.indices, tf.expand_dims(tf.cast(sparse_cube.values,dtype = tf.int8), 1), claster_num)\n"
      ],
      "execution_count": null,
      "outputs": []
    },
    {
      "cell_type": "markdown",
      "metadata": {
        "id": "F_-cwW373INA"
      },
      "source": [
        "originally the new representation of rf-matrix can be store in very compact format like an array of sparse vectors: three vector coordinates x,y,z and one sacalar of density at this point"
      ]
    },
    {
      "cell_type": "code",
      "metadata": {
        "id": "XdD7xsFKYsd6",
        "colab": {
          "base_uri": "https://localhost:8080/"
        },
        "outputId": "25dec700-ac2b-4688-b913-9c6e08160de3"
      },
      "source": [
        "import warnings\n",
        "warnings.filterwarnings(\"ignore\")\n",
        "\n",
        "Batch_size=64\n",
        "\n",
        "ds = tf.data.Dataset.from_tensor_slices((train_x,train_y))\n",
        "ds = ds.map(to_3DCube)\n"
      ],
      "execution_count": null,
      "outputs": [
        {
          "output_type": "stream",
          "text": [
            "WARNING:tensorflow:Using a while_loop for converting HistogramFixedWidth\n"
          ],
          "name": "stdout"
        }
      ]
    },
    {
      "cell_type": "code",
      "metadata": {
        "colab": {
          "base_uri": "https://localhost:8080/"
        },
        "id": "LYn7r49K5pgw",
        "outputId": "52508c7b-82f0-4394-e9f5-4eeee39ced7f"
      },
      "source": [
        "ds.element_spec"
      ],
      "execution_count": null,
      "outputs": [
        {
          "output_type": "execute_result",
          "data": {
            "text/plain": [
              "(TensorSpec(shape=(None, 3), dtype=tf.int64, name=None),\n",
              " TensorSpec(shape=(None, 1), dtype=tf.int8, name=None),\n",
              " TensorSpec(shape=(5,), dtype=tf.float64, name=None))"
            ]
          },
          "metadata": {
            "tags": []
          },
          "execution_count": 32
        }
      ]
    },
    {
      "cell_type": "markdown",
      "metadata": {
        "id": "Enq2P7xk4dSI"
      },
      "source": [
        "but just before input to CNN model we have to transform every representation into dense tensor:"
      ]
    },
    {
      "cell_type": "code",
      "metadata": {
        "colab": {
          "base_uri": "https://localhost:8080/"
        },
        "id": "DGNlT2bm4zr-",
        "outputId": "fef4cf67-e02e-4a1f-b89b-6f3a2bd35ccb"
      },
      "source": [
        "cubes = ds.map(lambda ind,val,l:[tf.SparseTensor(ind,tf.squeeze(val),(10,10,10)),l])\n",
        "cubes= cubes.map(lambda c,l:[tf.expand_dims(tf.sparse.to_dense(c,default_value=0,validate_indices=False), axis=-1),l])\n",
        "cubes.element_spec"
      ],
      "execution_count": null,
      "outputs": [
        {
          "output_type": "execute_result",
          "data": {
            "text/plain": [
              "(TensorSpec(shape=(10, 10, 10, 1), dtype=tf.int8, name=None),\n",
              " TensorSpec(shape=(5,), dtype=tf.float64, name=None))"
            ]
          },
          "metadata": {
            "tags": []
          },
          "execution_count": 33
        }
      ]
    },
    {
      "cell_type": "markdown",
      "metadata": {
        "id": "65ImVk7Sg0UZ"
      },
      "source": [
        "since type float 64 demands lot of memory for every representation I convert the data into int8 by memory economy reasons. Every density is no more than 255, so that would not danage representation\n",
        "\n"
      ]
    },
    {
      "cell_type": "code",
      "metadata": {
        "id": "UVE8haRV4_E2"
      },
      "source": [
        "\n",
        "length = train_x.shape[0]\n",
        "split = int(length*(1.-test_size))\n",
        "train_cubes=cubes.take(split).shuffle(1024).batch(Batch_size)\n",
        "val_cubes = cubes.skip(split).shuffle(1024).batch(Batch_size)\n",
        "\n",
        "steps_per_epoch=split//Batch_size\n",
        "validation_steps = int(length - split)//Batch_size\n"
      ],
      "execution_count": null,
      "outputs": []
    },
    {
      "cell_type": "markdown",
      "metadata": {
        "id": "mn837KjYRLIh"
      },
      "source": [
        "### Visualization\n",
        "\n",
        "3d-representation of an arbitrarily sampled rf-matrix (non-empty part of 100x100x100 tensor). A size of every point means quantity of vectors that accumulated at this particular discrete cell of the tensor."
      ]
    },
    {
      "cell_type": "code",
      "metadata": {
        "colab": {
          "base_uri": "https://localhost:8080/",
          "height": 576
        },
        "id": "rtQvZ6S5Mz23",
        "outputId": "f687e6ce-0d7d-4908-f8ce-195281df5a75"
      },
      "source": [
        "# 3 bins convert into 3D\n",
        "\n",
        " \n",
        "@tf.function(experimental_relax_shapes=True)\n",
        "def to_3DCube_temp(rf_matrix, claster_num=-1, length=20): \n",
        "  New_dims=3 # number \"m\" in the article\n",
        "  NBins=tf.constant(New_dims, dtype=tf.int32)\n",
        "  Value_Range=tf.constant([0.,1.],dtype=tf.float32)\n",
        "  #length - number \"n\" in article\n",
        "  density =10\n",
        "  # length = rf_matrix.shape[0]\n",
        "  NBins=tf.constant(New_dims, dtype=tf.int32)\n",
        "  \n",
        "  updates=tf.ones(length)\n",
        "  # print(length)\n",
        "  @tf.function(experimental_relax_shapes=True)\n",
        "  def dens(row):\n",
        "    res = tf.cast(tf.histogram_fixed_width(tf_normalize(row), nbins=NBins ,value_range=Value_Range)/length*density, tf.int32)\n",
        "    return res\n",
        "\n",
        "  coords = tf.vectorized_map(dens, rf_matrix)\n",
        "  # return coords\n",
        "  cube=tf.scatter_nd(coords,updates,tf.repeat(density,NBins))# 6D tensors with shape (10,10,10,10,10,10)\n",
        "  # # flatten_cube = tf.reshape(cube,tf.repeat(density*density, 3))#flatten to shape (100,100,100)\n",
        "  sparse_cube = tf.sparse.from_dense(cube) # compact format of 3D tensor\n",
        "  return (sparse_cube.indices, tf.expand_dims(tf.cast(sparse_cube.values,dtype = tf.int8), 1), claster_num)\n",
        "\n",
        "  import plotly.graph_objs as go\n",
        "\n",
        "k=1\n",
        "vectors = to_3DCube_temp(X[k])\n",
        "\n",
        "markers=dict(\n",
        "    size= 3 *np.squeeze(vectors[1]),\n",
        "    opacity=0.8\n",
        "    )\n",
        "cluster_num = np.argmax(y[k])+1\n",
        "fig = go.Figure(data=[go.Scatter3d(\n",
        "      mode='markers',\n",
        "      x=vectors[0][:,0],\n",
        "      y=vectors[0][:,1],\n",
        "      z=vectors[0][:,2], \n",
        "      showlegend=True , # labelled_components[:,3]\n",
        "      marker=markers\n",
        "      )]\n",
        "      )\n",
        "  # tight layout\n",
        "fig.update_layout(margin=dict(l=0, r=0, b=0, t=0))\n",
        "print(F'Clasters: { cluster_num}, points: {vectors[0].shape[0]}')\n",
        "fig.show()"
      ],
      "execution_count": null,
      "outputs": [
        {
          "output_type": "stream",
          "text": [
            "WARNING:tensorflow:Using a while_loop for converting HistogramFixedWidth\n",
            "Clasters: 3, points: 2\n"
          ],
          "name": "stdout"
        },
        {
          "output_type": "display_data",
          "data": {
            "text/html": [
              "<html>\n",
              "<head><meta charset=\"utf-8\" /></head>\n",
              "<body>\n",
              "    <div>\n",
              "            <script src=\"https://cdnjs.cloudflare.com/ajax/libs/mathjax/2.7.5/MathJax.js?config=TeX-AMS-MML_SVG\"></script><script type=\"text/javascript\">if (window.MathJax) {MathJax.Hub.Config({SVG: {font: \"STIX-Web\"}});}</script>\n",
              "                <script type=\"text/javascript\">window.PlotlyConfig = {MathJaxConfig: 'local'};</script>\n",
              "        <script src=\"https://cdn.plot.ly/plotly-latest.min.js\"></script>    \n",
              "            <div id=\"64ac651f-fc62-4f2a-91a5-289744e14485\" class=\"plotly-graph-div\" style=\"height:525px; width:100%;\"></div>\n",
              "            <script type=\"text/javascript\">\n",
              "                \n",
              "                    window.PLOTLYENV=window.PLOTLYENV || {};\n",
              "                    \n",
              "                if (document.getElementById(\"64ac651f-fc62-4f2a-91a5-289744e14485\")) {\n",
              "                    Plotly.newPlot(\n",
              "                        '64ac651f-fc62-4f2a-91a5-289744e14485',\n",
              "                        [{\"marker\": {\"opacity\": 0.8, \"size\": [36, 24]}, \"mode\": \"markers\", \"showlegend\": true, \"type\": \"scatter3d\", \"x\": [3, 4], \"y\": [0, 0], \"z\": [7, 6]}],\n",
              "                        {\"margin\": {\"b\": 0, \"l\": 0, \"r\": 0, \"t\": 0}, \"template\": {\"data\": {\"bar\": [{\"error_x\": {\"color\": \"#2a3f5f\"}, \"error_y\": {\"color\": \"#2a3f5f\"}, \"marker\": {\"line\": {\"color\": \"#E5ECF6\", \"width\": 0.5}}, \"type\": \"bar\"}], \"barpolar\": [{\"marker\": {\"line\": {\"color\": \"#E5ECF6\", \"width\": 0.5}}, \"type\": \"barpolar\"}], \"carpet\": [{\"aaxis\": {\"endlinecolor\": \"#2a3f5f\", \"gridcolor\": \"white\", \"linecolor\": \"white\", \"minorgridcolor\": \"white\", \"startlinecolor\": \"#2a3f5f\"}, \"baxis\": {\"endlinecolor\": \"#2a3f5f\", \"gridcolor\": \"white\", \"linecolor\": \"white\", \"minorgridcolor\": \"white\", \"startlinecolor\": \"#2a3f5f\"}, \"type\": \"carpet\"}], \"choropleth\": [{\"colorbar\": {\"outlinewidth\": 0, \"ticks\": \"\"}, \"type\": \"choropleth\"}], \"contour\": [{\"colorbar\": {\"outlinewidth\": 0, \"ticks\": \"\"}, \"colorscale\": [[0.0, \"#0d0887\"], [0.1111111111111111, \"#46039f\"], [0.2222222222222222, \"#7201a8\"], [0.3333333333333333, \"#9c179e\"], [0.4444444444444444, \"#bd3786\"], [0.5555555555555556, \"#d8576b\"], [0.6666666666666666, \"#ed7953\"], [0.7777777777777778, \"#fb9f3a\"], [0.8888888888888888, \"#fdca26\"], [1.0, \"#f0f921\"]], \"type\": \"contour\"}], \"contourcarpet\": [{\"colorbar\": {\"outlinewidth\": 0, \"ticks\": \"\"}, \"type\": \"contourcarpet\"}], \"heatmap\": [{\"colorbar\": {\"outlinewidth\": 0, \"ticks\": \"\"}, \"colorscale\": [[0.0, \"#0d0887\"], [0.1111111111111111, \"#46039f\"], [0.2222222222222222, \"#7201a8\"], [0.3333333333333333, \"#9c179e\"], [0.4444444444444444, \"#bd3786\"], [0.5555555555555556, \"#d8576b\"], [0.6666666666666666, \"#ed7953\"], [0.7777777777777778, \"#fb9f3a\"], [0.8888888888888888, \"#fdca26\"], [1.0, \"#f0f921\"]], \"type\": \"heatmap\"}], \"heatmapgl\": [{\"colorbar\": {\"outlinewidth\": 0, \"ticks\": \"\"}, \"colorscale\": [[0.0, \"#0d0887\"], [0.1111111111111111, \"#46039f\"], [0.2222222222222222, \"#7201a8\"], [0.3333333333333333, \"#9c179e\"], [0.4444444444444444, \"#bd3786\"], [0.5555555555555556, \"#d8576b\"], [0.6666666666666666, \"#ed7953\"], [0.7777777777777778, \"#fb9f3a\"], [0.8888888888888888, \"#fdca26\"], [1.0, \"#f0f921\"]], \"type\": \"heatmapgl\"}], \"histogram\": [{\"marker\": {\"colorbar\": {\"outlinewidth\": 0, \"ticks\": \"\"}}, \"type\": \"histogram\"}], \"histogram2d\": [{\"colorbar\": {\"outlinewidth\": 0, \"ticks\": \"\"}, \"colorscale\": [[0.0, \"#0d0887\"], [0.1111111111111111, \"#46039f\"], [0.2222222222222222, \"#7201a8\"], [0.3333333333333333, \"#9c179e\"], [0.4444444444444444, \"#bd3786\"], [0.5555555555555556, \"#d8576b\"], [0.6666666666666666, \"#ed7953\"], [0.7777777777777778, \"#fb9f3a\"], [0.8888888888888888, \"#fdca26\"], [1.0, \"#f0f921\"]], \"type\": \"histogram2d\"}], \"histogram2dcontour\": [{\"colorbar\": {\"outlinewidth\": 0, \"ticks\": \"\"}, \"colorscale\": [[0.0, \"#0d0887\"], [0.1111111111111111, \"#46039f\"], [0.2222222222222222, \"#7201a8\"], [0.3333333333333333, \"#9c179e\"], [0.4444444444444444, \"#bd3786\"], [0.5555555555555556, \"#d8576b\"], [0.6666666666666666, \"#ed7953\"], [0.7777777777777778, \"#fb9f3a\"], [0.8888888888888888, \"#fdca26\"], [1.0, \"#f0f921\"]], \"type\": \"histogram2dcontour\"}], \"mesh3d\": [{\"colorbar\": {\"outlinewidth\": 0, \"ticks\": \"\"}, \"type\": \"mesh3d\"}], \"parcoords\": [{\"line\": {\"colorbar\": {\"outlinewidth\": 0, \"ticks\": \"\"}}, \"type\": \"parcoords\"}], \"pie\": [{\"automargin\": true, \"type\": \"pie\"}], \"scatter\": [{\"marker\": {\"colorbar\": {\"outlinewidth\": 0, \"ticks\": \"\"}}, \"type\": \"scatter\"}], \"scatter3d\": [{\"line\": {\"colorbar\": {\"outlinewidth\": 0, \"ticks\": \"\"}}, \"marker\": {\"colorbar\": {\"outlinewidth\": 0, \"ticks\": \"\"}}, \"type\": \"scatter3d\"}], \"scattercarpet\": [{\"marker\": {\"colorbar\": {\"outlinewidth\": 0, \"ticks\": \"\"}}, \"type\": \"scattercarpet\"}], \"scattergeo\": [{\"marker\": {\"colorbar\": {\"outlinewidth\": 0, \"ticks\": \"\"}}, \"type\": \"scattergeo\"}], \"scattergl\": [{\"marker\": {\"colorbar\": {\"outlinewidth\": 0, \"ticks\": \"\"}}, \"type\": \"scattergl\"}], \"scattermapbox\": [{\"marker\": {\"colorbar\": {\"outlinewidth\": 0, \"ticks\": \"\"}}, \"type\": \"scattermapbox\"}], \"scatterpolar\": [{\"marker\": {\"colorbar\": {\"outlinewidth\": 0, \"ticks\": \"\"}}, \"type\": \"scatterpolar\"}], \"scatterpolargl\": [{\"marker\": {\"colorbar\": {\"outlinewidth\": 0, \"ticks\": \"\"}}, \"type\": \"scatterpolargl\"}], \"scatterternary\": [{\"marker\": {\"colorbar\": {\"outlinewidth\": 0, \"ticks\": \"\"}}, \"type\": \"scatterternary\"}], \"surface\": [{\"colorbar\": {\"outlinewidth\": 0, \"ticks\": \"\"}, \"colorscale\": [[0.0, \"#0d0887\"], [0.1111111111111111, \"#46039f\"], [0.2222222222222222, \"#7201a8\"], [0.3333333333333333, \"#9c179e\"], [0.4444444444444444, \"#bd3786\"], [0.5555555555555556, \"#d8576b\"], [0.6666666666666666, \"#ed7953\"], [0.7777777777777778, \"#fb9f3a\"], [0.8888888888888888, \"#fdca26\"], [1.0, \"#f0f921\"]], \"type\": \"surface\"}], \"table\": [{\"cells\": {\"fill\": {\"color\": \"#EBF0F8\"}, \"line\": {\"color\": \"white\"}}, \"header\": {\"fill\": {\"color\": \"#C8D4E3\"}, \"line\": {\"color\": \"white\"}}, \"type\": \"table\"}]}, \"layout\": {\"annotationdefaults\": {\"arrowcolor\": \"#2a3f5f\", \"arrowhead\": 0, \"arrowwidth\": 1}, \"coloraxis\": {\"colorbar\": {\"outlinewidth\": 0, \"ticks\": \"\"}}, \"colorscale\": {\"diverging\": [[0, \"#8e0152\"], [0.1, \"#c51b7d\"], [0.2, \"#de77ae\"], [0.3, \"#f1b6da\"], [0.4, \"#fde0ef\"], [0.5, \"#f7f7f7\"], [0.6, \"#e6f5d0\"], [0.7, \"#b8e186\"], [0.8, \"#7fbc41\"], [0.9, \"#4d9221\"], [1, \"#276419\"]], \"sequential\": [[0.0, \"#0d0887\"], [0.1111111111111111, \"#46039f\"], [0.2222222222222222, \"#7201a8\"], [0.3333333333333333, \"#9c179e\"], [0.4444444444444444, \"#bd3786\"], [0.5555555555555556, \"#d8576b\"], [0.6666666666666666, \"#ed7953\"], [0.7777777777777778, \"#fb9f3a\"], [0.8888888888888888, \"#fdca26\"], [1.0, \"#f0f921\"]], \"sequentialminus\": [[0.0, \"#0d0887\"], [0.1111111111111111, \"#46039f\"], [0.2222222222222222, \"#7201a8\"], [0.3333333333333333, \"#9c179e\"], [0.4444444444444444, \"#bd3786\"], [0.5555555555555556, \"#d8576b\"], [0.6666666666666666, \"#ed7953\"], [0.7777777777777778, \"#fb9f3a\"], [0.8888888888888888, \"#fdca26\"], [1.0, \"#f0f921\"]]}, \"colorway\": [\"#636efa\", \"#EF553B\", \"#00cc96\", \"#ab63fa\", \"#FFA15A\", \"#19d3f3\", \"#FF6692\", \"#B6E880\", \"#FF97FF\", \"#FECB52\"], \"font\": {\"color\": \"#2a3f5f\"}, \"geo\": {\"bgcolor\": \"white\", \"lakecolor\": \"white\", \"landcolor\": \"#E5ECF6\", \"showlakes\": true, \"showland\": true, \"subunitcolor\": \"white\"}, \"hoverlabel\": {\"align\": \"left\"}, \"hovermode\": \"closest\", \"mapbox\": {\"style\": \"light\"}, \"paper_bgcolor\": \"white\", \"plot_bgcolor\": \"#E5ECF6\", \"polar\": {\"angularaxis\": {\"gridcolor\": \"white\", \"linecolor\": \"white\", \"ticks\": \"\"}, \"bgcolor\": \"#E5ECF6\", \"radialaxis\": {\"gridcolor\": \"white\", \"linecolor\": \"white\", \"ticks\": \"\"}}, \"scene\": {\"xaxis\": {\"backgroundcolor\": \"#E5ECF6\", \"gridcolor\": \"white\", \"gridwidth\": 2, \"linecolor\": \"white\", \"showbackground\": true, \"ticks\": \"\", \"zerolinecolor\": \"white\"}, \"yaxis\": {\"backgroundcolor\": \"#E5ECF6\", \"gridcolor\": \"white\", \"gridwidth\": 2, \"linecolor\": \"white\", \"showbackground\": true, \"ticks\": \"\", \"zerolinecolor\": \"white\"}, \"zaxis\": {\"backgroundcolor\": \"#E5ECF6\", \"gridcolor\": \"white\", \"gridwidth\": 2, \"linecolor\": \"white\", \"showbackground\": true, \"ticks\": \"\", \"zerolinecolor\": \"white\"}}, \"shapedefaults\": {\"line\": {\"color\": \"#2a3f5f\"}}, \"ternary\": {\"aaxis\": {\"gridcolor\": \"white\", \"linecolor\": \"white\", \"ticks\": \"\"}, \"baxis\": {\"gridcolor\": \"white\", \"linecolor\": \"white\", \"ticks\": \"\"}, \"bgcolor\": \"#E5ECF6\", \"caxis\": {\"gridcolor\": \"white\", \"linecolor\": \"white\", \"ticks\": \"\"}}, \"title\": {\"x\": 0.05}, \"xaxis\": {\"automargin\": true, \"gridcolor\": \"white\", \"linecolor\": \"white\", \"ticks\": \"\", \"title\": {\"standoff\": 15}, \"zerolinecolor\": \"white\", \"zerolinewidth\": 2}, \"yaxis\": {\"automargin\": true, \"gridcolor\": \"white\", \"linecolor\": \"white\", \"ticks\": \"\", \"title\": {\"standoff\": 15}, \"zerolinecolor\": \"white\", \"zerolinewidth\": 2}}}},\n",
              "                        {\"responsive\": true}\n",
              "                    ).then(function(){\n",
              "                            \n",
              "var gd = document.getElementById('64ac651f-fc62-4f2a-91a5-289744e14485');\n",
              "var x = new MutationObserver(function (mutations, observer) {{\n",
              "        var display = window.getComputedStyle(gd).display;\n",
              "        if (!display || display === 'none') {{\n",
              "            console.log([gd, 'removed!']);\n",
              "            Plotly.purge(gd);\n",
              "            observer.disconnect();\n",
              "        }}\n",
              "}});\n",
              "\n",
              "// Listen for the removal of the full notebook cells\n",
              "var notebookContainer = gd.closest('#notebook-container');\n",
              "if (notebookContainer) {{\n",
              "    x.observe(notebookContainer, {childList: true});\n",
              "}}\n",
              "\n",
              "// Listen for the clearing of the current output cell\n",
              "var outputEl = gd.closest('.output');\n",
              "if (outputEl) {{\n",
              "    x.observe(outputEl, {childList: true});\n",
              "}}\n",
              "\n",
              "                        })\n",
              "                };\n",
              "                \n",
              "            </script>\n",
              "        </div>\n",
              "</body>\n",
              "</html>"
            ]
          },
          "metadata": {
            "tags": []
          }
        }
      ]
    },
    {
      "cell_type": "code",
      "metadata": {
        "colab": {
          "base_uri": "https://localhost:8080/"
        },
        "id": "9Fy9QMpCOvKf",
        "outputId": "441d5c8d-a003-4019-d64f-76ab6e3913c7"
      },
      "source": [
        "tf_normalize(X[k][2]), tf.histogram_fixed_width(tf_normalize(X[k][2]),[0.,1.],5)"
      ],
      "execution_count": null,
      "outputs": [
        {
          "output_type": "execute_result",
          "data": {
            "text/plain": [
              "(<tf.Tensor: shape=(20,), dtype=float32, numpy=\n",
              " array([0., 0., 0., 0., 0., 0., 1., 1., 1., 1., 1., 1., 1., 1., 1., 1., 1.,\n",
              "        1., 1., 1.], dtype=float32)>,\n",
              " <tf.Tensor: shape=(5,), dtype=int32, numpy=array([ 6,  0,  0,  0, 14], dtype=int32)>)"
            ]
          },
          "metadata": {
            "tags": []
          },
          "execution_count": 47
        }
      ]
    },
    {
      "cell_type": "code",
      "metadata": {
        "colab": {
          "base_uri": "https://localhost:8080/"
        },
        "id": "Ka5loVoCNO5f",
        "outputId": "09a5d870-ea8b-469f-9cd8-f0efb10a0e61"
      },
      "source": [
        "to_3DCube_temp(X[k])"
      ],
      "execution_count": null,
      "outputs": [
        {
          "output_type": "execute_result",
          "data": {
            "text/plain": [
              "(<tf.Tensor: shape=(2, 3), dtype=int64, numpy=\n",
              " array([[3, 0, 7],\n",
              "        [4, 0, 6]])>, <tf.Tensor: shape=(2, 1), dtype=int8, numpy=\n",
              " array([[12],\n",
              "        [ 8]], dtype=int8)>, <tf.Tensor: shape=(), dtype=int32, numpy=-1>)"
            ]
          },
          "metadata": {
            "tags": []
          },
          "execution_count": 48
        }
      ]
    },
    {
      "cell_type": "code",
      "metadata": {
        "colab": {
          "base_uri": "https://localhost:8080/",
          "height": 559
        },
        "id": "lNOJmJuTSHO5",
        "outputId": "4135dd60-b472-4b48-aa36-d1df9f82bd89"
      },
      "source": [
        "import plotly.graph_objs as go\n",
        "\n",
        "k=1\n",
        "vectors = to_3DCube_temp(X[k])\n",
        "\n",
        "markers=dict(\n",
        "    size= 3*np.squeeze(vectors[1]),\n",
        "    opacity=0.8\n",
        "    )\n",
        "cluster_num = np.argmax(y[k])+1\n",
        "fig = go.Figure(data=[go.Scatter3d(\n",
        "      mode='markers',\n",
        "      x=vectors[0][:,0],\n",
        "      y=vectors[0][:,1],\n",
        "      z=vectors[0][:,2], \n",
        "      showlegend=True , # labelled_components[:,3]\n",
        "      marker=markers\n",
        "      )]\n",
        "      )\n",
        "  # tight layout\n",
        "fig.update_layout(margin=dict(l=0, r=0, b=0, t=0))\n",
        "print(F'Clasters: { cluster_num}, points: {vectors[0].shape[0]}')\n",
        "fig.show()"
      ],
      "execution_count": null,
      "outputs": [
        {
          "output_type": "stream",
          "text": [
            "Clasters: 3, points: 2\n"
          ],
          "name": "stdout"
        },
        {
          "output_type": "display_data",
          "data": {
            "text/html": [
              "<html>\n",
              "<head><meta charset=\"utf-8\" /></head>\n",
              "<body>\n",
              "    <div>\n",
              "            <script src=\"https://cdnjs.cloudflare.com/ajax/libs/mathjax/2.7.5/MathJax.js?config=TeX-AMS-MML_SVG\"></script><script type=\"text/javascript\">if (window.MathJax) {MathJax.Hub.Config({SVG: {font: \"STIX-Web\"}});}</script>\n",
              "                <script type=\"text/javascript\">window.PlotlyConfig = {MathJaxConfig: 'local'};</script>\n",
              "        <script src=\"https://cdn.plot.ly/plotly-latest.min.js\"></script>    \n",
              "            <div id=\"0bf22fb6-ab1b-44d6-b03b-43a82ece5a46\" class=\"plotly-graph-div\" style=\"height:525px; width:100%;\"></div>\n",
              "            <script type=\"text/javascript\">\n",
              "                \n",
              "                    window.PLOTLYENV=window.PLOTLYENV || {};\n",
              "                    \n",
              "                if (document.getElementById(\"0bf22fb6-ab1b-44d6-b03b-43a82ece5a46\")) {\n",
              "                    Plotly.newPlot(\n",
              "                        '0bf22fb6-ab1b-44d6-b03b-43a82ece5a46',\n",
              "                        [{\"marker\": {\"opacity\": 0.8, \"size\": [36, 24]}, \"mode\": \"markers\", \"showlegend\": true, \"type\": \"scatter3d\", \"x\": [3, 4], \"y\": [0, 0], \"z\": [7, 6]}],\n",
              "                        {\"margin\": {\"b\": 0, \"l\": 0, \"r\": 0, \"t\": 0}, \"template\": {\"data\": {\"bar\": [{\"error_x\": {\"color\": \"#2a3f5f\"}, \"error_y\": {\"color\": \"#2a3f5f\"}, \"marker\": {\"line\": {\"color\": \"#E5ECF6\", \"width\": 0.5}}, \"type\": \"bar\"}], \"barpolar\": [{\"marker\": {\"line\": {\"color\": \"#E5ECF6\", \"width\": 0.5}}, \"type\": \"barpolar\"}], \"carpet\": [{\"aaxis\": {\"endlinecolor\": \"#2a3f5f\", \"gridcolor\": \"white\", \"linecolor\": \"white\", \"minorgridcolor\": \"white\", \"startlinecolor\": \"#2a3f5f\"}, \"baxis\": {\"endlinecolor\": \"#2a3f5f\", \"gridcolor\": \"white\", \"linecolor\": \"white\", \"minorgridcolor\": \"white\", \"startlinecolor\": \"#2a3f5f\"}, \"type\": \"carpet\"}], \"choropleth\": [{\"colorbar\": {\"outlinewidth\": 0, \"ticks\": \"\"}, \"type\": \"choropleth\"}], \"contour\": [{\"colorbar\": {\"outlinewidth\": 0, \"ticks\": \"\"}, \"colorscale\": [[0.0, \"#0d0887\"], [0.1111111111111111, \"#46039f\"], [0.2222222222222222, \"#7201a8\"], [0.3333333333333333, \"#9c179e\"], [0.4444444444444444, \"#bd3786\"], [0.5555555555555556, \"#d8576b\"], [0.6666666666666666, \"#ed7953\"], [0.7777777777777778, \"#fb9f3a\"], [0.8888888888888888, \"#fdca26\"], [1.0, \"#f0f921\"]], \"type\": \"contour\"}], \"contourcarpet\": [{\"colorbar\": {\"outlinewidth\": 0, \"ticks\": \"\"}, \"type\": \"contourcarpet\"}], \"heatmap\": [{\"colorbar\": {\"outlinewidth\": 0, \"ticks\": \"\"}, \"colorscale\": [[0.0, \"#0d0887\"], [0.1111111111111111, \"#46039f\"], [0.2222222222222222, \"#7201a8\"], [0.3333333333333333, \"#9c179e\"], [0.4444444444444444, \"#bd3786\"], [0.5555555555555556, \"#d8576b\"], [0.6666666666666666, \"#ed7953\"], [0.7777777777777778, \"#fb9f3a\"], [0.8888888888888888, \"#fdca26\"], [1.0, \"#f0f921\"]], \"type\": \"heatmap\"}], \"heatmapgl\": [{\"colorbar\": {\"outlinewidth\": 0, \"ticks\": \"\"}, \"colorscale\": [[0.0, \"#0d0887\"], [0.1111111111111111, \"#46039f\"], [0.2222222222222222, \"#7201a8\"], [0.3333333333333333, \"#9c179e\"], [0.4444444444444444, \"#bd3786\"], [0.5555555555555556, \"#d8576b\"], [0.6666666666666666, \"#ed7953\"], [0.7777777777777778, \"#fb9f3a\"], [0.8888888888888888, \"#fdca26\"], [1.0, \"#f0f921\"]], \"type\": \"heatmapgl\"}], \"histogram\": [{\"marker\": {\"colorbar\": {\"outlinewidth\": 0, \"ticks\": \"\"}}, \"type\": \"histogram\"}], \"histogram2d\": [{\"colorbar\": {\"outlinewidth\": 0, \"ticks\": \"\"}, \"colorscale\": [[0.0, \"#0d0887\"], [0.1111111111111111, \"#46039f\"], [0.2222222222222222, \"#7201a8\"], [0.3333333333333333, \"#9c179e\"], [0.4444444444444444, \"#bd3786\"], [0.5555555555555556, \"#d8576b\"], [0.6666666666666666, \"#ed7953\"], [0.7777777777777778, \"#fb9f3a\"], [0.8888888888888888, \"#fdca26\"], [1.0, \"#f0f921\"]], \"type\": \"histogram2d\"}], \"histogram2dcontour\": [{\"colorbar\": {\"outlinewidth\": 0, \"ticks\": \"\"}, \"colorscale\": [[0.0, \"#0d0887\"], [0.1111111111111111, \"#46039f\"], [0.2222222222222222, \"#7201a8\"], [0.3333333333333333, \"#9c179e\"], [0.4444444444444444, \"#bd3786\"], [0.5555555555555556, \"#d8576b\"], [0.6666666666666666, \"#ed7953\"], [0.7777777777777778, \"#fb9f3a\"], [0.8888888888888888, \"#fdca26\"], [1.0, \"#f0f921\"]], \"type\": \"histogram2dcontour\"}], \"mesh3d\": [{\"colorbar\": {\"outlinewidth\": 0, \"ticks\": \"\"}, \"type\": \"mesh3d\"}], \"parcoords\": [{\"line\": {\"colorbar\": {\"outlinewidth\": 0, \"ticks\": \"\"}}, \"type\": \"parcoords\"}], \"pie\": [{\"automargin\": true, \"type\": \"pie\"}], \"scatter\": [{\"marker\": {\"colorbar\": {\"outlinewidth\": 0, \"ticks\": \"\"}}, \"type\": \"scatter\"}], \"scatter3d\": [{\"line\": {\"colorbar\": {\"outlinewidth\": 0, \"ticks\": \"\"}}, \"marker\": {\"colorbar\": {\"outlinewidth\": 0, \"ticks\": \"\"}}, \"type\": \"scatter3d\"}], \"scattercarpet\": [{\"marker\": {\"colorbar\": {\"outlinewidth\": 0, \"ticks\": \"\"}}, \"type\": \"scattercarpet\"}], \"scattergeo\": [{\"marker\": {\"colorbar\": {\"outlinewidth\": 0, \"ticks\": \"\"}}, \"type\": \"scattergeo\"}], \"scattergl\": [{\"marker\": {\"colorbar\": {\"outlinewidth\": 0, \"ticks\": \"\"}}, \"type\": \"scattergl\"}], \"scattermapbox\": [{\"marker\": {\"colorbar\": {\"outlinewidth\": 0, \"ticks\": \"\"}}, \"type\": \"scattermapbox\"}], \"scatterpolar\": [{\"marker\": {\"colorbar\": {\"outlinewidth\": 0, \"ticks\": \"\"}}, \"type\": \"scatterpolar\"}], \"scatterpolargl\": [{\"marker\": {\"colorbar\": {\"outlinewidth\": 0, \"ticks\": \"\"}}, \"type\": \"scatterpolargl\"}], \"scatterternary\": [{\"marker\": {\"colorbar\": {\"outlinewidth\": 0, \"ticks\": \"\"}}, \"type\": \"scatterternary\"}], \"surface\": [{\"colorbar\": {\"outlinewidth\": 0, \"ticks\": \"\"}, \"colorscale\": [[0.0, \"#0d0887\"], [0.1111111111111111, \"#46039f\"], [0.2222222222222222, \"#7201a8\"], [0.3333333333333333, \"#9c179e\"], [0.4444444444444444, \"#bd3786\"], [0.5555555555555556, \"#d8576b\"], [0.6666666666666666, \"#ed7953\"], [0.7777777777777778, \"#fb9f3a\"], [0.8888888888888888, \"#fdca26\"], [1.0, \"#f0f921\"]], \"type\": \"surface\"}], \"table\": [{\"cells\": {\"fill\": {\"color\": \"#EBF0F8\"}, \"line\": {\"color\": \"white\"}}, \"header\": {\"fill\": {\"color\": \"#C8D4E3\"}, \"line\": {\"color\": \"white\"}}, \"type\": \"table\"}]}, \"layout\": {\"annotationdefaults\": {\"arrowcolor\": \"#2a3f5f\", \"arrowhead\": 0, \"arrowwidth\": 1}, \"coloraxis\": {\"colorbar\": {\"outlinewidth\": 0, \"ticks\": \"\"}}, \"colorscale\": {\"diverging\": [[0, \"#8e0152\"], [0.1, \"#c51b7d\"], [0.2, \"#de77ae\"], [0.3, \"#f1b6da\"], [0.4, \"#fde0ef\"], [0.5, \"#f7f7f7\"], [0.6, \"#e6f5d0\"], [0.7, \"#b8e186\"], [0.8, \"#7fbc41\"], [0.9, \"#4d9221\"], [1, \"#276419\"]], \"sequential\": [[0.0, \"#0d0887\"], [0.1111111111111111, \"#46039f\"], [0.2222222222222222, \"#7201a8\"], [0.3333333333333333, \"#9c179e\"], [0.4444444444444444, \"#bd3786\"], [0.5555555555555556, \"#d8576b\"], [0.6666666666666666, \"#ed7953\"], [0.7777777777777778, \"#fb9f3a\"], [0.8888888888888888, \"#fdca26\"], [1.0, \"#f0f921\"]], \"sequentialminus\": [[0.0, \"#0d0887\"], [0.1111111111111111, \"#46039f\"], [0.2222222222222222, \"#7201a8\"], [0.3333333333333333, \"#9c179e\"], [0.4444444444444444, \"#bd3786\"], [0.5555555555555556, \"#d8576b\"], [0.6666666666666666, \"#ed7953\"], [0.7777777777777778, \"#fb9f3a\"], [0.8888888888888888, \"#fdca26\"], [1.0, \"#f0f921\"]]}, \"colorway\": [\"#636efa\", \"#EF553B\", \"#00cc96\", \"#ab63fa\", \"#FFA15A\", \"#19d3f3\", \"#FF6692\", \"#B6E880\", \"#FF97FF\", \"#FECB52\"], \"font\": {\"color\": \"#2a3f5f\"}, \"geo\": {\"bgcolor\": \"white\", \"lakecolor\": \"white\", \"landcolor\": \"#E5ECF6\", \"showlakes\": true, \"showland\": true, \"subunitcolor\": \"white\"}, \"hoverlabel\": {\"align\": \"left\"}, \"hovermode\": \"closest\", \"mapbox\": {\"style\": \"light\"}, \"paper_bgcolor\": \"white\", \"plot_bgcolor\": \"#E5ECF6\", \"polar\": {\"angularaxis\": {\"gridcolor\": \"white\", \"linecolor\": \"white\", \"ticks\": \"\"}, \"bgcolor\": \"#E5ECF6\", \"radialaxis\": {\"gridcolor\": \"white\", \"linecolor\": \"white\", \"ticks\": \"\"}}, \"scene\": {\"xaxis\": {\"backgroundcolor\": \"#E5ECF6\", \"gridcolor\": \"white\", \"gridwidth\": 2, \"linecolor\": \"white\", \"showbackground\": true, \"ticks\": \"\", \"zerolinecolor\": \"white\"}, \"yaxis\": {\"backgroundcolor\": \"#E5ECF6\", \"gridcolor\": \"white\", \"gridwidth\": 2, \"linecolor\": \"white\", \"showbackground\": true, \"ticks\": \"\", \"zerolinecolor\": \"white\"}, \"zaxis\": {\"backgroundcolor\": \"#E5ECF6\", \"gridcolor\": \"white\", \"gridwidth\": 2, \"linecolor\": \"white\", \"showbackground\": true, \"ticks\": \"\", \"zerolinecolor\": \"white\"}}, \"shapedefaults\": {\"line\": {\"color\": \"#2a3f5f\"}}, \"ternary\": {\"aaxis\": {\"gridcolor\": \"white\", \"linecolor\": \"white\", \"ticks\": \"\"}, \"baxis\": {\"gridcolor\": \"white\", \"linecolor\": \"white\", \"ticks\": \"\"}, \"bgcolor\": \"#E5ECF6\", \"caxis\": {\"gridcolor\": \"white\", \"linecolor\": \"white\", \"ticks\": \"\"}}, \"title\": {\"x\": 0.05}, \"xaxis\": {\"automargin\": true, \"gridcolor\": \"white\", \"linecolor\": \"white\", \"ticks\": \"\", \"title\": {\"standoff\": 15}, \"zerolinecolor\": \"white\", \"zerolinewidth\": 2}, \"yaxis\": {\"automargin\": true, \"gridcolor\": \"white\", \"linecolor\": \"white\", \"ticks\": \"\", \"title\": {\"standoff\": 15}, \"zerolinecolor\": \"white\", \"zerolinewidth\": 2}}}},\n",
              "                        {\"responsive\": true}\n",
              "                    ).then(function(){\n",
              "                            \n",
              "var gd = document.getElementById('0bf22fb6-ab1b-44d6-b03b-43a82ece5a46');\n",
              "var x = new MutationObserver(function (mutations, observer) {{\n",
              "        var display = window.getComputedStyle(gd).display;\n",
              "        if (!display || display === 'none') {{\n",
              "            console.log([gd, 'removed!']);\n",
              "            Plotly.purge(gd);\n",
              "            observer.disconnect();\n",
              "        }}\n",
              "}});\n",
              "\n",
              "// Listen for the removal of the full notebook cells\n",
              "var notebookContainer = gd.closest('#notebook-container');\n",
              "if (notebookContainer) {{\n",
              "    x.observe(notebookContainer, {childList: true});\n",
              "}}\n",
              "\n",
              "// Listen for the clearing of the current output cell\n",
              "var outputEl = gd.closest('.output');\n",
              "if (outputEl) {{\n",
              "    x.observe(outputEl, {childList: true});\n",
              "}}\n",
              "\n",
              "                        })\n",
              "                };\n",
              "                \n",
              "            </script>\n",
              "        </div>\n",
              "</body>\n",
              "</html>"
            ]
          },
          "metadata": {
            "tags": []
          }
        }
      ]
    },
    {
      "cell_type": "markdown",
      "metadata": {
        "id": "IQHQBKu7Y9hz"
      },
      "source": [
        "## CNN Model"
      ]
    },
    {
      "cell_type": "code",
      "metadata": {
        "id": "IuQY8ptv99-p"
      },
      "source": [
        "model_2=tf.keras.models.Sequential([\n",
        "  tf.keras.layers.InputLayer(input_shape=train_cubes.element_spec[0].shape[1:]),\n",
        "  tf.keras.layers.Conv3D(filters=64, kernel_size=10,strides=2, activation='relu', name='conv3d_0'),\n",
        "  tf.keras.layers.MaxPool3D(10,strides=2),\n",
        "  tf.keras.layers.Conv3D(filters=32, kernel_size=2, activation='relu', name='conv3d_1'),\n",
        "  tf.keras.layers.MaxPool3D(2),\n",
        "  tf.keras.layers.Conv3D(filters=16, kernel_size=2, activation='relu', name='conv3d_2'),\n",
        "  tf.keras.layers.Flatten(),\n",
        "  tf.keras.layers.Dense(train_cubes.element_spec[1].shape[-1], activation='softmax', name='softmax')\n",
        "])\n"
      ],
      "execution_count": null,
      "outputs": []
    },
    {
      "cell_type": "code",
      "metadata": {
        "id": "lXU_EKC8AByv"
      },
      "source": [
        "# optimizer = tf.keras.optimizers.Adamax(lr=1e-3)\n",
        "model_2.compile(loss='categorical_crossentropy', optimizer='adam', \n",
        "              metrics=['accuracy']\n",
        "              )\n"
      ],
      "execution_count": null,
      "outputs": []
    },
    {
      "cell_type": "code",
      "metadata": {
        "colab": {
          "base_uri": "https://localhost:8080/"
        },
        "id": "GaMv4vJoq7ox",
        "outputId": "60de42f5-958a-4104-ee4f-94dec454af3f"
      },
      "source": [
        "model_2.summary()"
      ],
      "execution_count": null,
      "outputs": [
        {
          "output_type": "stream",
          "text": [
            "Model: \"sequential\"\n",
            "_________________________________________________________________\n",
            "Layer (type)                 Output Shape              Param #   \n",
            "=================================================================\n",
            "conv3d_0 (Conv3D)            (None, 46, 46, 46, 64)    64064     \n",
            "_________________________________________________________________\n",
            "max_pooling3d (MaxPooling3D) (None, 19, 19, 19, 64)    0         \n",
            "_________________________________________________________________\n",
            "conv3d_1 (Conv3D)            (None, 18, 18, 18, 32)    16416     \n",
            "_________________________________________________________________\n",
            "max_pooling3d_1 (MaxPooling3 (None, 9, 9, 9, 32)       0         \n",
            "_________________________________________________________________\n",
            "conv3d_2 (Conv3D)            (None, 8, 8, 8, 16)       4112      \n",
            "_________________________________________________________________\n",
            "flatten (Flatten)            (None, 8192)              0         \n",
            "_________________________________________________________________\n",
            "softmax (Dense)              (None, 5)                 40965     \n",
            "=================================================================\n",
            "Total params: 125,557\n",
            "Trainable params: 125,557\n",
            "Non-trainable params: 0\n",
            "_________________________________________________________________\n"
          ],
          "name": "stdout"
        }
      ]
    },
    {
      "cell_type": "code",
      "metadata": {
        "id": "d_KSwJrV6sLR"
      },
      "source": [
        "# model_2.optimizer = optimizer\n",
        "train_cubes = train_cubes.cache()\n",
        "val_cubes=val_cubes.cache()"
      ],
      "execution_count": null,
      "outputs": []
    },
    {
      "cell_type": "code",
      "metadata": {
        "colab": {
          "base_uri": "https://localhost:8080/"
        },
        "id": "BeKp0bIFGUL-",
        "outputId": "062f05f8-3246-4755-821a-986ee554f406"
      },
      "source": [
        "epochs=10\n",
        "history=model_2.fit(train_cubes, validation_data =val_cubes,\n",
        "                      epochs=epochs,\n",
        "                      # steps_per_epoch=split//batch_size,\n",
        "                      # validation_steps = int(length - split)//batch_size\n",
        "                      )"
      ],
      "execution_count": null,
      "outputs": [
        {
          "output_type": "stream",
          "text": [
            "Epoch 1/10\n",
            "32/32 [==============================] - 97s 2s/step - loss: 1.4875 - accuracy: 0.3777 - val_loss: 0.9983 - val_accuracy: 0.6921\n",
            "Epoch 2/10\n",
            "32/32 [==============================] - 34s 1s/step - loss: 0.7719 - accuracy: 0.7091 - val_loss: 0.5198 - val_accuracy: 0.7983\n",
            "Epoch 3/10\n",
            "32/32 [==============================] - 34s 1s/step - loss: 0.4997 - accuracy: 0.8074 - val_loss: 0.3386 - val_accuracy: 0.8811\n",
            "Epoch 4/10\n",
            "32/32 [==============================] - 35s 1s/step - loss: 0.3828 - accuracy: 0.8683 - val_loss: 0.2460 - val_accuracy: 0.9172\n",
            "Epoch 5/10\n",
            "32/32 [==============================] - 35s 1s/step - loss: 0.3025 - accuracy: 0.8937 - val_loss: 0.1888 - val_accuracy: 0.9469\n",
            "Epoch 6/10\n",
            "32/32 [==============================] - 36s 1s/step - loss: 0.2309 - accuracy: 0.9197 - val_loss: 0.1609 - val_accuracy: 0.9639\n",
            "Epoch 7/10\n",
            "32/32 [==============================] - 36s 1s/step - loss: 0.1763 - accuracy: 0.9446 - val_loss: 0.1335 - val_accuracy: 0.9724\n",
            "Epoch 8/10\n",
            "32/32 [==============================] - 36s 1s/step - loss: 0.1402 - accuracy: 0.9551 - val_loss: 0.1179 - val_accuracy: 0.9809\n",
            "Epoch 9/10\n",
            "32/32 [==============================] - 36s 1s/step - loss: 0.1135 - accuracy: 0.9596 - val_loss: 0.1055 - val_accuracy: 0.9830\n",
            "Epoch 10/10\n",
            "32/32 [==============================] - 36s 1s/step - loss: 0.0945 - accuracy: 0.9676 - val_loss: 0.0988 - val_accuracy: 0.9830\n"
          ],
          "name": "stdout"
        }
      ]
    },
    {
      "cell_type": "code",
      "metadata": {
        "id": "ihDNc_ZxEZ83"
      },
      "source": [
        "model_2.optimizer.learning_rate=0.0005\n"
      ],
      "execution_count": null,
      "outputs": []
    },
    {
      "cell_type": "code",
      "metadata": {
        "colab": {
          "base_uri": "https://localhost:8080/",
          "height": 380
        },
        "id": "OyyA_uZJrQeu",
        "outputId": "678a13f8-84a9-4f42-b1d6-5101331bb0f2"
      },
      "source": [
        "import matplotlib.pyplot as plt\n",
        " \n",
        "loss = history.history['loss']\n",
        "val_loss = history.history['val_loss']\n",
        "accuracy = history.history['accuracy']\n",
        "val_accuracy = history.history['val_accuracy']\n",
        "epoch_scale = range(len(loss))\n",
        "fig = plt.figure(figsize=(20,7))\n",
        "ax=fig.add_subplot(1,2,1)\n",
        "ax.plot(epoch_scale, loss, 'b', label='Training Loss')\n",
        "ax.plot(epoch_scale, val_loss, 'r', label='Validation Loss')\n",
        "ax.legend([\"Loss\", \"validate loss\"])\n",
        "ax1=fig.add_subplot(1,2,2)\n",
        "ax1.plot(epoch_scale, accuracy, 'b', label='Training accuracy')\n",
        "ax1.plot(epoch_scale, val_accuracy, 'r', label='Validation accuracy')\n",
        "ax1.legend([\"accuracy\", \"validate accuracy\"])\n",
        "\n",
        "fig.show()"
      ],
      "execution_count": null,
      "outputs": [
        {
          "output_type": "display_data",
          "data": {
            "image/png": "[encoded data removed]",
            "text/plain": [
              "<Figure size 1440x504 with 2 Axes>"
            ]
          },
          "metadata": {
            "tags": [],
            "needs_background": "light"
          }
        }
      ]
    },
    {
      "cell_type": "code",
      "metadata": {
        "id": "mwcQwbWeR6Q6"
      },
      "source": [
        "epochs=10"
      ],
      "execution_count": null,
      "outputs": []
    },
    {
      "cell_type": "code",
      "metadata": {
        "colab": {
          "base_uri": "https://localhost:8080/"
        },
        "id": "CEDB4W9gGOaY",
        "outputId": "78ec130e-6727-4ea1-a9ef-a4bc85033a14"
      },
      "source": [
        "initial_epoch=epochs\n",
        "epochs=epochs+10\n",
        "history=model_2.fit(train_cubes, validation_data =val_cubes,\n",
        "                      epochs=epochs,\n",
        "                      initial_epoch = initial_epoch,\n",
        "                      # steps_per_epoch=split//batch_size,\n",
        "                      # validation_steps = int(length - split)//batch_size\n",
        "                      )"
      ],
      "execution_count": null,
      "outputs": [
        {
          "output_type": "stream",
          "text": [
            "Epoch 11/20\n",
            "32/32 [==============================] - 35s 1s/step - loss: 0.0781 - accuracy: 0.9746 - val_loss: 0.0911 - val_accuracy: 0.9830\n",
            "Epoch 12/20\n",
            "32/32 [==============================] - 38s 1s/step - loss: 0.0657 - accuracy: 0.9800 - val_loss: 0.0906 - val_accuracy: 0.9830\n",
            "Epoch 13/20\n",
            "32/32 [==============================] - 36s 1s/step - loss: 0.0569 - accuracy: 0.9830 - val_loss: 0.0928 - val_accuracy: 0.9809\n",
            "Epoch 14/20\n",
            "32/32 [==============================] - 37s 1s/step - loss: 0.0490 - accuracy: 0.9850 - val_loss: 0.0907 - val_accuracy: 0.9851\n",
            "Epoch 15/20\n",
            "32/32 [==============================] - 37s 1s/step - loss: 0.0404 - accuracy: 0.9890 - val_loss: 0.0887 - val_accuracy: 0.9851\n",
            "Epoch 16/20\n",
            "32/32 [==============================] - 37s 1s/step - loss: 0.0321 - accuracy: 0.9940 - val_loss: 0.0892 - val_accuracy: 0.9851\n",
            "Epoch 17/20\n",
            "32/32 [==============================] - 37s 1s/step - loss: 0.0259 - accuracy: 0.9945 - val_loss: 0.0904 - val_accuracy: 0.9873\n",
            "Epoch 18/20\n",
            "32/32 [==============================] - 37s 1s/step - loss: 0.0220 - accuracy: 0.9955 - val_loss: 0.0911 - val_accuracy: 0.9894\n",
            "Epoch 19/20\n",
            "32/32 [==============================] - 37s 1s/step - loss: 0.0191 - accuracy: 0.9970 - val_loss: 0.0916 - val_accuracy: 0.9873\n",
            "Epoch 20/20\n",
            "32/32 [==============================] - 37s 1s/step - loss: 0.0171 - accuracy: 0.9970 - val_loss: 0.0942 - val_accuracy: 0.9873\n"
          ],
          "name": "stdout"
        }
      ]
    },
    {
      "cell_type": "code",
      "metadata": {
        "id": "QZu9Rr2zuWBv"
      },
      "source": [
        "loss=[*loss, *history.history['loss']]\n",
        "val_loss =[*val_loss, *history.history['val_loss']]\n",
        "accuracy =[*accuracy, *history.history['accuracy']]\n",
        "val_accuracy =[*val_accuracy, *history.history['val_accuracy']]\n",
        "epoch_scale = range(len(loss))\n"
      ],
      "execution_count": null,
      "outputs": []
    },
    {
      "cell_type": "code",
      "metadata": {
        "colab": {
          "base_uri": "https://localhost:8080/",
          "height": 320
        },
        "id": "KkzbYCYq7y5F",
        "outputId": "90cb8e78-41f9-4303-e7de-1ab3082bcdfe"
      },
      "source": [
        "\n",
        "fig = plt.figure(figsize=(15,5))\n",
        "ax=fig.add_subplot(1,2,1)\n",
        "ax.plot(epoch_scale, loss, 'b', label='Training Loss')\n",
        "ax.plot(epoch_scale, val_loss, 'r', label='Validation Loss')\n",
        "ax.legend([\"Loss\", \"validate loss\"])\n",
        "ax1=fig.add_subplot(1,2,2)\n",
        "ax1.plot(epoch_scale, accuracy, 'b', label='Training accuracy')\n",
        "ax1.plot(epoch_scale, val_accuracy, 'r', label='Validation accuracy')\n",
        "ax1.legend([\"accuracy\", \"validate accuracy\"])\n",
        "\n",
        "fig.show()"
      ],
      "execution_count": null,
      "outputs": [
        {
          "output_type": "display_data",
          "data": {
            "image/png": "[encoded data removed]",
            "text/plain": [
              "<Figure size 1080x360 with 2 Axes>"
            ]
          },
          "metadata": {
            "tags": [],
            "needs_background": "light"
          }
        }
      ]
    },
    {
      "cell_type": "markdown",
      "metadata": {
        "id": "jZ_J4yaxgYyx"
      },
      "source": [
        "for 20 epochs the same result is getting\n",
        "so 10 epochs is enaugh"
      ]
    },
    {
      "cell_type": "code",
      "metadata": {
        "id": "IaC5xfRB4t9Z",
        "colab": {
          "base_uri": "https://localhost:8080/"
        },
        "outputId": "e73e3518-5f1f-47dd-9357-191386b52355"
      },
      "source": [
        "from google.colab import drive\n",
        "drive.mount('/content/drive')"
      ],
      "execution_count": null,
      "outputs": [
        {
          "output_type": "stream",
          "text": [
            "Mounted at /content/drive\n"
          ],
          "name": "stdout"
        }
      ]
    },
    {
      "cell_type": "code",
      "metadata": {
        "id": "6F4ApEdjGvNm"
      },
      "source": [
        "tf.keras.models.save_model( model_2, '/content/drive/MyDrive/Tahiri Nadia/model_2.h5')"
      ],
      "execution_count": null,
      "outputs": []
    },
    {
      "cell_type": "code",
      "metadata": {
        "id": "SamoA10Bt4cU"
      },
      "source": [
        "model_2 = tf.keras.models.load_model('/content/drive/MyDrive/Tahiri Nadia/model_2.h5')"
      ],
      "execution_count": null,
      "outputs": []
    },
    {
      "cell_type": "markdown",
      "metadata": {
        "id": "XgYxakD9MMdr"
      },
      "source": [
        "We got 98% accuracy for our 3D images of RF-Matrices, and these images is invariant to the number of trees in the matrices or order of entry of trees to the matrix eather"
      ]
    },
    {
      "cell_type": "markdown",
      "metadata": {
        "id": "dN405zd6nTyy"
      },
      "source": [
        "##Confusion matrix"
      ]
    },
    {
      "cell_type": "code",
      "metadata": {
        "id": "p8fpkqi1nXag",
        "colab": {
          "base_uri": "https://localhost:8080/"
        },
        "outputId": "0e7d9f19-9214-4c61-be0f-2bc2e95f85b4"
      },
      "source": [
        "ds_test = tf.data.Dataset.from_tensor_slices((test_x,test_y))\n",
        "ds_test = ds_test.map(to_3DCube)\n",
        "ds_test = ds_test.map(lambda ind,val,l:[tf.SparseTensor(ind,tf.squeeze(val),(100,100,100)),l])\n",
        "ds_test= ds_test.map(lambda c,l:[tf.expand_dims(tf.sparse.to_dense(c,default_value=0,validate_indices=False), axis=-1),l])\n",
        "\n",
        "validation_array = np.array(list(ds_test.as_numpy_iterator()),dtype=object)\n",
        "test_x = np.stack(validation_array[:,0])\n",
        "test_y = np.stack(validation_array[:,1])\n"
      ],
      "execution_count": null,
      "outputs": [
        {
          "output_type": "stream",
          "text": [
            "WARNING:tensorflow:Using a while_loop for converting HistogramFixedWidth\n"
          ],
          "name": "stdout"
        }
      ]
    },
    {
      "cell_type": "code",
      "metadata": {
        "id": "KUquE58Bu54j"
      },
      "source": [
        "\n",
        "# Use the model to predict the labels\n",
        "test_predictions = model_2.predict(test_x,steps=test_x.shape[0])\n",
        "test_y_pred = np.argmax(test_predictions, axis=1)\n",
        "test_y_true = np.argmax(test_y, axis=1)"
      ],
      "execution_count": null,
      "outputs": []
    },
    {
      "cell_type": "code",
      "metadata": {
        "colab": {
          "base_uri": "https://localhost:8080/"
        },
        "id": "DW49EsZ2nclT",
        "outputId": "f6827094-1b35-4c47-f4c5-26f6035c95ba"
      },
      "source": [
        "from sklearn.metrics import confusion_matrix\n",
        "confMat=confusion_matrix( test_y_pred,test_y_true)\n",
        "print( np.sum(np.diag(confMat))/len(test_y_true))"
      ],
      "execution_count": null,
      "outputs": [
        {
          "output_type": "stream",
          "text": [
            "0.9959677419354839\n"
          ],
          "name": "stdout"
        }
      ]
    },
    {
      "cell_type": "code",
      "metadata": {
        "colab": {
          "base_uri": "https://localhost:8080/",
          "height": 585
        },
        "id": "IkCdkpU7njJ3",
        "outputId": "a8a0b452-b707-4ff0-b435-cc06ccd592f1"
      },
      "source": [
        "import itertools\n",
        "import io\n",
        "from tensorflow.image import decode_png\n",
        "\n",
        "def plot_confusion_matrix(cm, class_names):\n",
        "  \"\"\"\n",
        "  Returns a matplotlib figure containing the plotted confusion matrix.\n",
        "\n",
        "  Args:\n",
        "    cm (array, shape = [n, n]): a confusion matrix of integer classes\n",
        "    class_names (array, shape = [n]): String names of the integer classes\n",
        "  \"\"\"\n",
        "  figure = plt.figure(figsize=(8, 8))\n",
        "  plt.imshow(cm, interpolation='nearest', cmap=plt.cm.Blues)\n",
        "  plt.title(\"Confusion matrix\")\n",
        "  plt.colorbar()\n",
        "  tick_marks = np.arange(len(class_names))\n",
        "  plt.xticks(tick_marks, class_names, rotation=90)\n",
        "  plt.yticks(tick_marks, class_names)\n",
        "\n",
        "  # Normalize the confusion matrix.\n",
        "  cm = np.around(cm.astype(np.float) / cm.sum(axis=1)[:, np.newaxis], decimals=2)\n",
        "\n",
        "  # Use white text if squares are dark; otherwise black.\n",
        "  threshold = cm.max() / 2.\n",
        "  for i, j in itertools.product(range(cm.shape[0]), range(cm.shape[1])):\n",
        "    color = \"white\" if cm[i, j] > threshold else \"black\"\n",
        "    plt.text(j, i, cm[i, j], horizontalalignment=\"center\", color=color)\n",
        "\n",
        "  plt.tight_layout()\n",
        "  plt.ylabel('True label')\n",
        "  plt.xlabel('Predicted label')\n",
        "  # return figure\n",
        "\n",
        "def plot_to_image(figure):\n",
        "  \"\"\"Converts the matplotlib plot specified by 'figure' to a PNG image and\n",
        "  returns it. The supplied figure is closed and inaccessible after this call.\"\"\"\n",
        "  # Save the plot to a PNG in memory.\n",
        "  buf = io.BytesIO()\n",
        "  plt.savefig(buf, format='png')\n",
        "  # Closing the figure prevents it from being displayed directly inside\n",
        "  # the notebook.\n",
        "  plt.close(figure)\n",
        "  buf.seek(0)\n",
        "  # Convert PNG buffer to TF image\n",
        "  image = decode_png(buf.getvalue(), channels=4)\n",
        "  return image\n",
        "\n",
        "plot_confusion_matrix(confMat,class_names=('one','two','three','four','five'))"
      ],
      "execution_count": null,
      "outputs": [
        {
          "output_type": "display_data",
          "data": {
            "image/png": "[encoded data removed]",
            "text/plain": [
              "<Figure size 576x576 with 2 Axes>"
            ]
          },
          "metadata": {
            "tags": [],
            "needs_background": "light"
          }
        }
      ]
    },
    {
      "cell_type": "markdown",
      "metadata": {
        "id": "cS76nfJRCJzY"
      },
      "source": [
        "## Checking on real data"
      ]
    },
    {
      "cell_type": "code",
      "metadata": {
        "id": "uxOBN3gf_vzp"
      },
      "source": [
        "from sklearn.cluster import AffinityPropagation\n",
        "fh = url.urlopen( 'https://github.com/TahiriNadia/ML_DL_Classification_Trees/raw/master/data/SARS-CoV-2/matrice_SARS-CoV-2')\n",
        "\n",
        "fh.readline() #frist row\n",
        "mCOV=[]\n",
        "#mCOV= np.zeros((12,12)\n",
        "while True:\n",
        "  line = fh.readline()\n",
        "  if not line:\n",
        "    break\n",
        "  values_i = np.array(line.split(), dtype=np.float)\n",
        "  mCOV.append(values_i )\n",
        "mCOV = np.vstack(mCOV)\n",
        "mCOV = mCOV/np.max(mCOV)\n"
      ],
      "execution_count": null,
      "outputs": []
    },
    {
      "cell_type": "code",
      "metadata": {
        "colab": {
          "base_uri": "https://localhost:8080/",
          "height": 282
        },
        "id": "-CfiPitzOxxd",
        "outputId": "35997633-e315-44da-e410-26743bf7f290"
      },
      "source": [
        "import matplotlib.pyplot as plt\n",
        "\n",
        "plt.imshow(mCOV)"
      ],
      "execution_count": null,
      "outputs": [
        {
          "output_type": "execute_result",
          "data": {
            "text/plain": [
              "<matplotlib.image.AxesImage at 0x7f6b0caca610>"
            ]
          },
          "metadata": {
            "tags": []
          },
          "execution_count": 36
        },
        {
          "output_type": "display_data",
          "data": {
            "image/png": "[encoded data removed]",
            "text/plain": [
              "<Figure size 432x288 with 1 Axes>"
            ]
          },
          "metadata": {
            "tags": [],
            "needs_background": "light"
          }
        }
      ]
    },
    {
      "cell_type": "code",
      "metadata": {
        "colab": {
          "base_uri": "https://localhost:8080/",
          "height": 282
        },
        "id": "eFvwHv7QO4KM",
        "outputId": "45ea015f-d8f6-4495-8880-c135c8c73203"
      },
      "source": [
        "def permute_RF(expl):\n",
        "  ind=np.random.permutation(np.arange(expl.shape[0]))\n",
        "  permuted_trees=expl[ind,:]\n",
        "  permuted_trees=permuted_trees[:,ind]\n",
        "  return permuted_trees\n",
        "\n",
        "permutedCONV =permute_RF(mCOV)\n",
        "plt.imshow(permutedCONV)"
      ],
      "execution_count": null,
      "outputs": [
        {
          "output_type": "execute_result",
          "data": {
            "text/plain": [
              "<matplotlib.image.AxesImage at 0x7f6b0cb8c250>"
            ]
          },
          "metadata": {
            "tags": []
          },
          "execution_count": 37
        },
        {
          "output_type": "display_data",
          "data": {
            "image/png": "[encoded data removed]",
            "text/plain": [
              "<Figure size 432x288 with 1 Axes>"
            ]
          },
          "metadata": {
            "tags": [],
            "needs_background": "light"
          }
        }
      ]
    },
    {
      "cell_type": "markdown",
      "metadata": {
        "id": "wBJA1ihZKlta"
      },
      "source": [
        "### Our method\n",
        "Composes two models into a pipeline and are infers a cluster number on model output"
      ]
    },
    {
      "cell_type": "code",
      "metadata": {
        "id": "Ru29saMRB67k"
      },
      "source": [
        "def theMethod(RF_matrix):\n",
        "  ind,val,_ = to_3DCube(RF_matrix,length = RF_matrix.shape[0] )\n",
        "  cube = tf.SparseTensor(ind,tf.squeeze(val),(100,100,100))\n",
        "  cube = tf.expand_dims(\n",
        "                        tf.sparse.to_dense(cube,default_value=0,validate_indices=False),\n",
        "                        axis=-1)\n",
        "  # embeddings= Encoder.predict(np.expand_dims(dist,axis=-1))\n",
        "  res = model_2.predict(tf.expand_dims(cube,axis=0))\n",
        "  print(res)\n",
        "  return np.argmax(res[0])+1\n"
      ],
      "execution_count": null,
      "outputs": []
    },
    {
      "cell_type": "markdown",
      "metadata": {
        "id": "oSQ_sJlmn1mz"
      },
      "source": [
        "### Affinity Propagation method\n",
        "Gets input a distance matrix and outputs clastered data\n",
        "[Affinity Propagation](https://scikit-learn.org/stable/modules/clustering.html#affinity-propagation)\n"
      ]
    },
    {
      "cell_type": "markdown",
      "metadata": {
        "id": "GoiF1-nIGCoZ"
      },
      "source": [
        "AffinityPropagation predicts 4 clusters for mCOV"
      ]
    },
    {
      "cell_type": "code",
      "metadata": {
        "colab": {
          "base_uri": "https://localhost:8080/"
        },
        "id": "5fbL3FKLPdkO",
        "outputId": "c69b15d8-29ee-48dc-fce3-b8202cad0cc6"
      },
      "source": [
        "from sklearn.cluster import AffinityPropagation\n",
        "AffinityPropagation().fit_predict(X=mCOV)"
      ],
      "execution_count": null,
      "outputs": [
        {
          "output_type": "execute_result",
          "data": {
            "text/plain": [
              "array([0, 0, 0, 3, 0, 0, 0, 1, 0, 2, 3, 3])"
            ]
          },
          "metadata": {
            "tags": []
          },
          "execution_count": 37
        }
      ]
    },
    {
      "cell_type": "markdown",
      "metadata": {
        "id": "NnlbJt2mHDnj"
      },
      "source": [
        "our method predicts one cluster in mCOV"
      ]
    },
    {
      "cell_type": "code",
      "metadata": {
        "id": "HbdNsZuNUuvv",
        "colab": {
          "base_uri": "https://localhost:8080/"
        },
        "outputId": "0b8e7350-c05f-42b8-cd03-483392b7782f"
      },
      "source": [
        "np.set_printoptions(precision=2)\n",
        "theMethod(mCOV)"
      ],
      "execution_count": null,
      "outputs": [
        {
          "output_type": "stream",
          "text": [
            "WARNING:tensorflow:Using a while_loop for converting HistogramFixedWidth\n",
            "[[9.87e-01 4.33e-04 7.14e-03 5.56e-03 8.37e-05]]\n"
          ],
          "name": "stdout"
        },
        {
          "output_type": "execute_result",
          "data": {
            "text/plain": [
              "1"
            ]
          },
          "metadata": {
            "tags": []
          },
          "execution_count": 39
        }
      ]
    },
    {
      "cell_type": "markdown",
      "metadata": {
        "id": "HnlUjqE7HR9R"
      },
      "source": [
        "and exactly the same predicts for permutate matrix:"
      ]
    },
    {
      "cell_type": "code",
      "metadata": {
        "colab": {
          "base_uri": "https://localhost:8080/"
        },
        "id": "JXucw6LZPi7T",
        "outputId": "c5ce32d4-5e81-4b6f-9231-89298280078d"
      },
      "source": [
        "theMethod(permutedCONV)"
      ],
      "execution_count": null,
      "outputs": [
        {
          "output_type": "stream",
          "text": [
            "[[9.87e-01 4.33e-04 7.14e-03 5.56e-03 8.37e-05]]\n"
          ],
          "name": "stdout"
        },
        {
          "output_type": "execute_result",
          "data": {
            "text/plain": [
              "1"
            ]
          },
          "metadata": {
            "tags": []
          },
          "execution_count": 40
        }
      ]
    },
    {
      "cell_type": "code",
      "metadata": {
        "id": "SYoDnNTtLgHT"
      },
      "source": [
        "def stockhamm_data( input_file ):\n",
        "  with open(input_file) as f:\n",
        "    line= f.readline()\n",
        "    ret = np.vstack([np.array([line.split() for line in f],float)])\n",
        "  return ret"
      ],
      "execution_count": null,
      "outputs": []
    },
    {
      "cell_type": "markdown",
      "metadata": {
        "id": "NH7smaxkJGio"
      },
      "source": [
        "in this visualisation a part of large real-data rf-matrix (26 trees)  shows two variants of clusterisation: 3 clusters or 2 clusters:"
      ]
    },
    {
      "cell_type": "code",
      "metadata": {
        "colab": {
          "base_uri": "https://localhost:8080/",
          "height": 282
        },
        "id": "EqEcsDuvHCPh",
        "outputId": "bfb2e00a-a334-419f-9a70-8b83c31cd958"
      },
      "source": [
        "Casesal = stockhamm_data(\"/content/drive/MyDrive/Tahiri Nadia/caseal_rf_matrice_RF.txt\")\n",
        "sect_Casesal = Casesal[:26,:26]\n",
        "sect_Casesal = sect_Casesal/np.max(sect_Casesal)\n",
        "plt.imshow(sect_Casesal)\n"
      ],
      "execution_count": null,
      "outputs": [
        {
          "output_type": "execute_result",
          "data": {
            "text/plain": [
              "<matplotlib.image.AxesImage at 0x7f99ee0e5ad0>"
            ]
          },
          "metadata": {
            "tags": []
          },
          "execution_count": 56
        },
        {
          "output_type": "display_data",
          "data": {
            "image/png": "[encoded data removed]",
            "text/plain": [
              "<Figure size 432x288 with 1 Axes>"
            ]
          },
          "metadata": {
            "tags": [],
            "needs_background": "light"
          }
        }
      ]
    },
    {
      "cell_type": "code",
      "metadata": {
        "colab": {
          "base_uri": "https://localhost:8080/",
          "height": 282
        },
        "id": "xgZ4FR0RQGY6",
        "outputId": "d2a4af2f-3dd4-4293-9de3-585841113f90"
      },
      "source": [
        "permuted_Casesal = permute_RF(sect_Casesal)\n",
        "plt.imshow(permuted_Casesal)"
      ],
      "execution_count": null,
      "outputs": [
        {
          "output_type": "execute_result",
          "data": {
            "text/plain": [
              "<matplotlib.image.AxesImage at 0x7f99ee08b510>"
            ]
          },
          "metadata": {
            "tags": []
          },
          "execution_count": 57
        },
        {
          "output_type": "display_data",
          "data": {
            "image/png": "[encoded data removed]",
            "text/plain": [
              "<Figure size 432x288 with 1 Axes>"
            ]
          },
          "metadata": {
            "tags": [],
            "needs_background": "light"
          }
        }
      ]
    },
    {
      "cell_type": "markdown",
      "metadata": {
        "id": "TeBh9t8lIMpb"
      },
      "source": [
        "AffinityPropagation predicts 3 clusters for first 26 trees from  rf-matrix \"Casesal\""
      ]
    },
    {
      "cell_type": "code",
      "metadata": {
        "colab": {
          "base_uri": "https://localhost:8080/"
        },
        "id": "gulEJgKrMzen",
        "outputId": "8537ab5c-fb5a-4fec-9f71-0fed29954173"
      },
      "source": [
        "res = AffinityPropagation(damping=.5).fit_predict(X=sect_Casesal)\n",
        "print (res)\n",
        "print(f'Cluster number:{res.max()+1}')"
      ],
      "execution_count": null,
      "outputs": [
        {
          "output_type": "stream",
          "text": [
            "[0 0 0 0 0 0 0 0 0 1 1 1 1 1 1 1 1 1 2 2 2 2 2 2 2 2]\n",
            "Cluster number:3\n"
          ],
          "name": "stdout"
        }
      ]
    },
    {
      "cell_type": "code",
      "metadata": {
        "colab": {
          "base_uri": "https://localhost:8080/"
        },
        "id": "bLDc859fQ1F1",
        "outputId": "d6ae5689-8423-4740-9f01-6bec3c7e5c7d"
      },
      "source": [
        "res = AffinityPropagation(damping=.5).fit_predict(X=permuted_Casesal)\n",
        "print (res)\n",
        "print(f'Cluster number:{res.max()+1}')"
      ],
      "execution_count": null,
      "outputs": [
        {
          "output_type": "stream",
          "text": [
            "[0 2 1 1 0 0 2 2 0 1 1 2 1 0 2 1 0 0 0 1 1 2 2 1 0 2]\n",
            "Cluster number:3\n"
          ],
          "name": "stdout"
        }
      ]
    },
    {
      "cell_type": "markdown",
      "metadata": {
        "id": "SgUUeK99YEKy"
      },
      "source": [
        "Our method is confident in predict of 2 clusters for the first 26 trees from \"Casesal\""
      ]
    },
    {
      "cell_type": "code",
      "metadata": {
        "colab": {
          "base_uri": "https://localhost:8080/"
        },
        "id": "8huEUZNPTCBJ",
        "outputId": "45111590-c7bb-423c-ffad-96c9594c7f7c"
      },
      "source": [
        "# model.load_weights('/content/drive/MyDrive/Tahiri Nadia/small_model1_weights.h5')\n",
        "print(f'Casesal:{theMethod(sect_Casesal)} clusters')\n",
        "print(f'permuted_Casesal:{theMethod(permuted_Casesal)}  clusters')"
      ],
      "execution_count": null,
      "outputs": [
        {
          "output_type": "stream",
          "text": [
            "[[1.14e-04 1.00e+00 9.18e-05 1.43e-05 1.31e-09]]\n",
            "Casesal:2 clusters\n",
            "[[1.14e-04 1.00e+00 9.18e-05 1.43e-05 1.31e-09]]\n",
            "permuted_Casesal:2  clusters\n"
          ],
          "name": "stdout"
        }
      ]
    },
    {
      "cell_type": "markdown",
      "metadata": {
        "id": "JIZsPN_rCkTF"
      },
      "source": [
        "##test the model of Woese dataset"
      ]
    },
    {
      "cell_type": "code",
      "metadata": {
        "colab": {
          "base_uri": "https://localhost:8080/"
        },
        "id": "kU5SgwMiCdr2",
        "outputId": "c55206ca-ace0-4343-8f66-9338e85f62a1"
      },
      "source": [
        "!pip install git+git://github.com/jeetsukumaran/DendroPy.git\n",
        "\n",
        "import dendropy"
      ],
      "execution_count": null,
      "outputs": [
        {
          "output_type": "stream",
          "text": [
            "Collecting git+git://github.com/jeetsukumaran/DendroPy.git\n",
            "  Cloning git://github.com/jeetsukumaran/DendroPy.git to /tmp/pip-req-build-fdiu1q7f\n",
            "  Running command git clone -q git://github.com/jeetsukumaran/DendroPy.git /tmp/pip-req-build-fdiu1q7f\n",
            "Requirement already satisfied: setuptools in /usr/local/lib/python3.7/dist-packages (from DendroPy==4.5.2) (57.0.0)\n",
            "Building wheels for collected packages: DendroPy\n",
            "  Building wheel for DendroPy (setup.py) ... \u001b[?25l\u001b[?25hdone\n",
            "  Created wheel for DendroPy: filename=DendroPy-4.5.2-cp37-none-any.whl size=453788 sha256=f6822d8944586a3f97038a8ae5d3dee1b1af01ef40c10945f83577ac667cbb19\n",
            "  Stored in directory: /tmp/pip-ephem-wheel-cache-3m3osfg3/wheels/cc/bb/7c/76764a8aef152bc6d44e91d4de0769e29da5f88e69b7628e35\n",
            "Successfully built DendroPy\n",
            "Installing collected packages: DendroPy\n",
            "Successfully installed DendroPy-4.5.2\n"
          ],
          "name": "stdout"
        }
      ]
    },
    {
      "cell_type": "code",
      "metadata": {
        "id": "81J08c_qCqyl"
      },
      "source": [
        "Woese_newick ='https://github.com/TahiriNadia/ML_DL_Classification_Trees/raw/master/data/Woese/all_trees_woese.txt'\n",
        "# Woese_newick = 'https://raw.githubusercontent.com/TahiriNadia/ML_DL_Classification_Trees/master/data/Woese/all_trees_woese.txt'"
      ],
      "execution_count": null,
      "outputs": []
    },
    {
      "cell_type": "code",
      "metadata": {
        "id": "egslgbTdC73-"
      },
      "source": [
        "tree_list = dendropy.TreeList.get(\n",
        "    url=Woese_newick,\n",
        "    schema=\"newick\",\n",
        "    taxon_namespace = dendropy.TaxonNamespace()\n",
        ")"
      ],
      "execution_count": null,
      "outputs": []
    },
    {
      "cell_type": "code",
      "metadata": {
        "id": "Xs0T5oXVDFkG"
      },
      "source": [
        "from dendropy.calculate import treecompare\n",
        "Woese_RF = np.array([[treecompare.robinson_foulds_distance(tree1,tree2) for tree2 in tree_list] for tree1 in tree_list])"
      ],
      "execution_count": null,
      "outputs": []
    },
    {
      "cell_type": "code",
      "metadata": {
        "id": "oy7TfK4-HzTk"
      },
      "source": [
        "Woese_RF=Woese_RF/np.max(Woese_RF)"
      ],
      "execution_count": null,
      "outputs": []
    },
    {
      "cell_type": "code",
      "metadata": {
        "colab": {
          "base_uri": "https://localhost:8080/",
          "height": 283
        },
        "id": "dnU4XPgmHUWH",
        "outputId": "641d4bf3-3077-4eaf-8d78-e6cbdf14687e"
      },
      "source": [
        "plt.imshow(Woese_RF)"
      ],
      "execution_count": null,
      "outputs": [
        {
          "output_type": "execute_result",
          "data": {
            "text/plain": [
              "<matplotlib.image.AxesImage at 0x7f6b0cef6f50>"
            ]
          },
          "metadata": {
            "tags": []
          },
          "execution_count": 41
        },
        {
          "output_type": "display_data",
          "data": {
            "image/png": "[encoded data removed]",
            "text/plain": [
              "<Figure size 432x288 with 1 Axes>"
            ]
          },
          "metadata": {
            "tags": [],
            "needs_background": "light"
          }
        }
      ]
    },
    {
      "cell_type": "markdown",
      "metadata": {
        "id": "Rq4Xx-0IINbt"
      },
      "source": [
        "by our method"
      ]
    },
    {
      "cell_type": "code",
      "metadata": {
        "colab": {
          "base_uri": "https://localhost:8080/"
        },
        "id": "-unynpT0HY1A",
        "outputId": "2a21f7e7-f125-4509-98aa-268ca6608f4e"
      },
      "source": [
        "print(f'Cluster number:{theMethod(Woese_RF)}')"
      ],
      "execution_count": null,
      "outputs": [
        {
          "output_type": "stream",
          "text": [
            "[[1.00e+00 8.47e-08 4.70e-09 1.01e-08 5.94e-12]]\n",
            "Cluster number:1\n"
          ],
          "name": "stdout"
        }
      ]
    },
    {
      "cell_type": "markdown",
      "metadata": {
        "id": "F4oaKxJTIQO8"
      },
      "source": [
        "by affinity propogation method"
      ]
    },
    {
      "cell_type": "code",
      "metadata": {
        "colab": {
          "base_uri": "https://localhost:8080/"
        },
        "id": "aAKp2cNzIHrN",
        "outputId": "23c40262-bd5a-4cfb-b63a-41ae64778565"
      },
      "source": [
        "res = AffinityPropagation(damping=.5).fit_predict(X=Woese_RF)\n",
        "print (res)\n",
        "print(f'Cluster number:{res.max()+1}')"
      ],
      "execution_count": null,
      "outputs": [
        {
          "output_type": "stream",
          "text": [
            "[2 2 4 4 4 4 3 2 4 2 4 4 4 3 0 1 3 0 2 2 4 2 2 0 3 3 4 4 4 4 3 0 3 4 0 2]\n",
            "Cluster number:5\n"
          ],
          "name": "stdout"
        }
      ]
    }
  ]
}