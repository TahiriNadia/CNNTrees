{
  "nbformat": 4,
  "nbformat_minor": 0,
  "metadata": {
    "colab": {
      "name": "Stable 3D representations on simulated rf_matrices dataset.ipynb",
      "provenance": [],
      "collapsed_sections": [],
      "toc_visible": true,
      "include_colab_link": true
    },
    "kernelspec": {
      "name": "python3",
      "display_name": "Python 3"
    },
    "accelerator": "GPU"
  },
  "cells": [
    {
      "cell_type": "markdown",
      "metadata": {
        "id": "view-in-github",
        "colab_type": "text"
      },
      "source": [
        "<a href=\"https://colab.research.google.com/github/TahiriNadia/CNNTrees/blob/master/3D_representations_on_simulated_rf_matrices_dataset.ipynb\" target=\"_parent\"><img src=\"https://colab.research.google.com/assets/colab-badge.svg\" alt=\"Open In Colab\"/></a>"
      ]
    },
    {
      "cell_type": "markdown",
      "metadata": {
        "id": "Gic-3uAuSIKo"
      },
      "source": [
        "####Start"
      ]
    },
    {
      "cell_type": "code",
      "metadata": {
        "id": "bzx78yVlZPN1"
      },
      "source": [
        "import os\n",
        "import numpy  as np\n",
        "import urllib.request as url\n",
        "from array import *\n",
        "import random\n",
        "import tensorflow as tf\n",
        "# tf.compat.v1.disable_eager_execution()"
      ],
      "execution_count": 1,
      "outputs": []
    },
    {
      "cell_type": "markdown",
      "metadata": {
        "id": "54_f6raUU5Vh"
      },
      "source": [
        "### Small simulated dataset"
      ]
    },
    {
      "cell_type": "code",
      "metadata": {
        "id": "Wh9CNFRMPy85",
        "colab": {
          "base_uri": "https://localhost:8080/"
        },
        "outputId": "db358e64-b105-4531-d8bc-f4b282bc2387"
      },
      "source": [
        "# b'20',    b'8',     b'1',       b'0',           b'0'\n",
        "# nb_arbre, nb_taxon, nb_cluster, percent_noise, nb_eloignement\n",
        "def mask_cluster (nb_cluster):\n",
        "    cluster = np.zeros((1,NB_CLUSTERS))\n",
        "    cluster[0,nb_cluster-1]=1\n",
        "    return cluster\n",
        "\n",
        "NB_CLUSTERS=5\n",
        "NB_DEPTH=5808\n",
        "NB_N=20\n",
        "\n",
        "values_i = np.zeros((NB_DEPTH,NB_N,NB_N))\n",
        "cluster_i = np.zeros((NB_DEPTH,NB_CLUSTERS))\n",
        "nb_eloignements = np.zeros((NB_DEPTH))\n",
        "cluster_ii = np.zeros((NB_DEPTH,NB_N,NB_CLUSTERS))\n",
        "\n",
        "fh = url.urlopen( \"https://github.com/TahiriNadia/ML_DL_Classification_Trees/raw/master/data/simulation/simulation_dataset\")\n",
        "depth = 0\n",
        "l_i = 1\n",
        "\n",
        "while True:\n",
        "    ligne = fh.readline()\n",
        "    nb_arbre,nb_taxon,nb_cluster,percent_noise,nb_eloignement = ligne.split()\n",
        "    cluster_i[depth]=mask_cluster(int(nb_cluster))\n",
        "    # cluster_ii[depth]=mask_cluster2(int(nb_cluster), int(nb_arbre))\n",
        "    nb_eloignements[depth]=nb_eloignement\n",
        "    for i in range(0, int(nb_arbre)):\n",
        "        ligne = fh.readline()\n",
        "        values_i [depth,i,:] = ligne.split()\n",
        "\n",
        "    ligne = fh.readline()\n",
        "    depth = depth + 1\n",
        "    l_i = l_i + int(nb_arbre) + 2\n",
        "    if not ligne:\n",
        "      break\n",
        "fh.close\n"
      ],
      "execution_count": 2,
      "outputs": [
        {
          "output_type": "execute_result",
          "data": {
            "text/plain": [
              "<bound method HTTPResponse.close of <http.client.HTTPResponse object at 0x7fa832463fd0>>"
            ]
          },
          "metadata": {},
          "execution_count": 2
        }
      ]
    },
    {
      "cell_type": "code",
      "metadata": {
        "id": "eHpvJhpxVQlh"
      },
      "source": [
        "def ConditionedSamples(x_values,y_values):\n",
        "  nonzero = np.squeeze(np.sum(x_values,axis=(1,2))!=0) # indexes of zero matrices\n",
        "  remoteness_down = (nb_eloignements >= 25)\n",
        "  remoteness_up = (nb_eloignements < 75)\n",
        "  remoteness = remoteness_down & remoteness_up\n",
        "  # only_four = (y_values[:,4]==0)\n",
        "\n",
        "  Conditioned_Index = nonzero & remoteness #& only_four\n",
        "  X, y, remotenesses = x_values[Conditioned_Index], y_values[Conditioned_Index], nb_eloignements[Conditioned_Index]\n",
        "  return X,y, Conditioned_Index\n",
        "\n",
        "X, y, Conditioned_Index= ConditionedSamples(values_i,cluster_i)\n"
      ],
      "execution_count": 81,
      "outputs": []
    },
    {
      "cell_type": "code",
      "metadata": {
        "id": "QOlOyHa7Z71n",
        "colab": {
          "base_uri": "https://localhost:8080/"
        },
        "outputId": "55fbf102-0187-467a-cfa3-5c20782e0ded"
      },
      "source": [
        "y.shape"
      ],
      "execution_count": 66,
      "outputs": [
        {
          "output_type": "execute_result",
          "data": {
            "text/plain": [
              "(3390, 5)"
            ]
          },
          "metadata": {},
          "execution_count": 66
        }
      ]
    },
    {
      "cell_type": "code",
      "metadata": {
        "id": "Kg7tWXO0jG_y"
      },
      "source": [
        "import plotly.graph_objs as go\n",
        "\n",
        "NBins=6 # number \"m\" in article\n",
        "Density =10\n",
        "\n",
        "shape_6D = tf.cast(tf.repeat(Density, NBins),tf.int32)\n",
        "shape_3D = tf.cast(tf.repeat(Density*Density, NBins//2),tf.int64)\n",
        "Value_Range=tf.constant([0.,1.],dtype=tf.float32)\n",
        "\n",
        "@tf.function(experimental_relax_shapes=True)\n",
        "def tf_normalize(tensor):\n",
        "  tensor=tf.cast(tensor,tf.float32)\n",
        "  min = tf.reduce_min(tensor)\n",
        "  return tf.divide( \n",
        "      tf.subtract(tensor, min), \n",
        "      tf.add(tf.subtract(tf.reduce_max(tensor), min),tf.constant(1e-25,dtype=tf.float32))\n",
        "      )\n",
        "  \n",
        "@tf.function(experimental_relax_shapes=True)\n",
        "def to_3DCube(rf_matrix, claster_num=-1): \n",
        "  #length - number \"n\" in article\n",
        "\n",
        "  length = rf_matrix.shape[0]\n",
        "  \n",
        "  updates=tf.ones(length)\n",
        "  \n",
        "  @tf.function(experimental_relax_shapes=True)\n",
        "  def dens(row):\n",
        "    res = tf.cast(\n",
        "        tf.histogram_fixed_width(values=tf_normalize(row), value_range=Value_Range, nbins=NBins)/length*Density\n",
        "        , tf.int32)\n",
        "    return res\n",
        "\n",
        "  coords = tf.vectorized_map(dens, rf_matrix)\n",
        "\n",
        "  cube=tf.scatter_nd(coords,updates, shape_6D )#[10,10,10,10,10,10]\n",
        "  flatten_cube = tf.reshape(cube,shape_3D)\n",
        "  sparse_cube = tf.sparse.from_dense(flatten_cube)\n",
        "  return (sparse_cube.indices, tf.expand_dims(tf.cast(sparse_cube.values,dtype = tf.int8), 1), claster_num)\n"
      ],
      "execution_count": 82,
      "outputs": []
    },
    {
      "cell_type": "code",
      "metadata": {
        "id": "E5HrEttZM_0_"
      },
      "source": [
        "from sklearn.model_selection import train_test_split\n",
        "test_size = 0.1\n",
        "train_x,test_x, train_y, test_y = train_test_split(X,y,test_size=test_size)"
      ],
      "execution_count": 83,
      "outputs": []
    },
    {
      "cell_type": "code",
      "metadata": {
        "id": "LJtvwTXgE1Ut",
        "outputId": "84dd2dae-c4ff-44e9-9457-8f3c658580ad",
        "colab": {
          "base_uri": "https://localhost:8080/"
        }
      },
      "source": [
        "\n",
        "import warnings\n",
        "warnings.filterwarnings(\"ignore\")\n",
        "\n",
        "Batch_size=32\n",
        "\n",
        "ds = tf.data.Dataset.from_tensor_slices((train_x,train_y))\n",
        "ds = ds.map(to_3DCube)\n",
        "cubes = ds.map(lambda ind,val,l:[tf.SparseTensor(ind,tf.squeeze(val),shape_3D),l])\n",
        "cubes= cubes.map(lambda c,l:[tf.expand_dims(tf.sparse.to_dense(c,default_value=0,validate_indices=False), axis=-1),l])\n",
        "\n",
        "length = train_x.shape[0]\n",
        "split = int(length*(1.-test_size))\n",
        "train_cubes=cubes.take(split).shuffle(1024).batch(Batch_size)\n",
        "val_cubes = cubes.skip(split).batch(Batch_size)\n",
        "\n",
        "steps_per_epoch=split//Batch_size\n",
        "validation_steps = int(length - split)//Batch_size\n",
        "\n"
      ],
      "execution_count": 84,
      "outputs": [
        {
          "output_type": "stream",
          "name": "stdout",
          "text": [
            "WARNING:tensorflow:Using a while_loop for converting HistogramFixedWidth\n"
          ]
        }
      ]
    },
    {
      "cell_type": "markdown",
      "metadata": {
        "id": "3euT7-Yap29g"
      },
      "source": [
        "## 3D Cubes"
      ]
    },
    {
      "cell_type": "markdown",
      "metadata": {
        "id": "65ImVk7Sg0UZ"
      },
      "source": [
        "since float 64 waste lot of memory for every representation I normalize the data to int8 for memory economy \n",
        "\n"
      ]
    },
    {
      "cell_type": "markdown",
      "metadata": {
        "id": "3I1NouojhFXb"
      },
      "source": [
        "we will describe that all in the paper\n"
      ]
    },
    {
      "cell_type": "code",
      "metadata": {
        "colab": {
          "base_uri": "https://localhost:8080/"
        },
        "id": "DMtV0AOpjgcq",
        "outputId": "7171945a-8563-4086-8b60-ee9cf3a99cc6"
      },
      "source": [
        "train_cubes.element_spec"
      ],
      "execution_count": 35,
      "outputs": [
        {
          "output_type": "execute_result",
          "data": {
            "text/plain": [
              "(TensorSpec(shape=(None, 100, 100, 100, 1), dtype=tf.int8, name=None),\n",
              " TensorSpec(shape=(None, 5), dtype=tf.float64, name=None))"
            ]
          },
          "metadata": {},
          "execution_count": 35
        }
      ]
    },
    {
      "cell_type": "markdown",
      "metadata": {
        "id": "mn837KjYRLIh"
      },
      "source": [
        "### Visualization"
      ]
    },
    {
      "cell_type": "code",
      "metadata": {
        "colab": {
          "base_uri": "https://localhost:8080/",
          "height": 559
        },
        "id": "lNOJmJuTSHO5",
        "outputId": "178821bb-ec11-497b-b073-7be0d1500f2f"
      },
      "source": [
        "k=7\n",
        "vectors = to_3DCube(X[k])\n",
        "\n",
        "\n",
        "def pprint_sparse_tensor(st):\n",
        "  s = \"<SparseTensor shape=%s \\n values={\" % (st.dense_shape.numpy().tolist(),)\n",
        "  for (index, value) in zip(st.indices, st.values):\n",
        "    s += f\"\\n  %s: %s\" % (index.numpy().tolist(), value.numpy().tolist())\n",
        "  return s + \"}>\"\n",
        "\n",
        "# sparse_cube= tf.sparse.from_dense(cube)\n",
        "\n",
        "markers=dict(\n",
        "    size= 3*np.squeeze(vectors[1]),\n",
        "    opacity=0.8\n",
        "    )\n",
        "cluster_num = np.argmax(y[k])+1\n",
        "fig = go.Figure(data=[go.Scatter3d(\n",
        "      mode='markers',\n",
        "      x=vectors[0][:,0],\n",
        "      y=vectors[0][:,1],\n",
        "      z=vectors[0][:,2], \n",
        "      showlegend=True , # labelled_components[:,3]\n",
        "      marker=markers\n",
        "      )]\n",
        "      )\n",
        "  # tight layout\n",
        "fig.update_layout(margin=dict(l=0, r=0, b=0, t=0))\n",
        "print(F'Clasters: { cluster_num}, points: {vectors[0].shape[0]}')\n",
        "fig.show()"
      ],
      "execution_count": 36,
      "outputs": [
        {
          "output_type": "stream",
          "name": "stdout",
          "text": [
            "Clasters: 2, points: 12\n"
          ]
        },
        {
          "output_type": "display_data",
          "data": {
            "text/html": [
              "<html>\n",
              "<head><meta charset=\"utf-8\" /></head>\n",
              "<body>\n",
              "    <div>\n",
              "            <script src=\"https://cdnjs.cloudflare.com/ajax/libs/mathjax/2.7.5/MathJax.js?config=TeX-AMS-MML_SVG\"></script><script type=\"text/javascript\">if (window.MathJax) {MathJax.Hub.Config({SVG: {font: \"STIX-Web\"}});}</script>\n",
              "                <script type=\"text/javascript\">window.PlotlyConfig = {MathJaxConfig: 'local'};</script>\n",
              "        <script src=\"https://cdn.plot.ly/plotly-latest.min.js\"></script>    \n",
              "            <div id=\"4cab638c-b8e0-4290-8c02-aca9b786fadf\" class=\"plotly-graph-div\" style=\"height:525px; width:100%;\"></div>\n",
              "            <script type=\"text/javascript\">\n",
              "                \n",
              "                    window.PLOTLYENV=window.PLOTLYENV || {};\n",
              "                    \n",
              "                if (document.getElementById(\"4cab638c-b8e0-4290-8c02-aca9b786fadf\")) {\n",
              "                    Plotly.newPlot(\n",
              "                        '4cab638c-b8e0-4290-8c02-aca9b786fadf',\n",
              "                        [{\"marker\": {\"opacity\": 0.8, \"size\": [3, 6, 6, 6, 6, 3, 3, 3, 6, 6, 6, 6]}, \"mode\": \"markers\", \"showlegend\": true, \"type\": \"scatter3d\", \"x\": [0, 0, 0, 0, 0, 0, 0, 0, 0, 10, 10, 10], \"y\": [0, 10, 12, 12, 13, 13, 14, 14, 40, 12, 12, 12], \"z\": [54, 44, 14, 23, 14, 23, 31, 40, 13, 14, 22, 23]}],\n",
              "                        {\"margin\": {\"b\": 0, \"l\": 0, \"r\": 0, \"t\": 0}, \"template\": {\"data\": {\"bar\": [{\"error_x\": {\"color\": \"#2a3f5f\"}, \"error_y\": {\"color\": \"#2a3f5f\"}, \"marker\": {\"line\": {\"color\": \"#E5ECF6\", \"width\": 0.5}}, \"type\": \"bar\"}], \"barpolar\": [{\"marker\": {\"line\": {\"color\": \"#E5ECF6\", \"width\": 0.5}}, \"type\": \"barpolar\"}], \"carpet\": [{\"aaxis\": {\"endlinecolor\": \"#2a3f5f\", \"gridcolor\": \"white\", \"linecolor\": \"white\", \"minorgridcolor\": \"white\", \"startlinecolor\": \"#2a3f5f\"}, \"baxis\": {\"endlinecolor\": \"#2a3f5f\", \"gridcolor\": \"white\", \"linecolor\": \"white\", \"minorgridcolor\": \"white\", \"startlinecolor\": \"#2a3f5f\"}, \"type\": \"carpet\"}], \"choropleth\": [{\"colorbar\": {\"outlinewidth\": 0, \"ticks\": \"\"}, \"type\": \"choropleth\"}], \"contour\": [{\"colorbar\": {\"outlinewidth\": 0, \"ticks\": \"\"}, \"colorscale\": [[0.0, \"#0d0887\"], [0.1111111111111111, \"#46039f\"], [0.2222222222222222, \"#7201a8\"], [0.3333333333333333, \"#9c179e\"], [0.4444444444444444, \"#bd3786\"], [0.5555555555555556, \"#d8576b\"], [0.6666666666666666, \"#ed7953\"], [0.7777777777777778, \"#fb9f3a\"], [0.8888888888888888, \"#fdca26\"], [1.0, \"#f0f921\"]], \"type\": \"contour\"}], \"contourcarpet\": [{\"colorbar\": {\"outlinewidth\": 0, \"ticks\": \"\"}, \"type\": \"contourcarpet\"}], \"heatmap\": [{\"colorbar\": {\"outlinewidth\": 0, \"ticks\": \"\"}, \"colorscale\": [[0.0, \"#0d0887\"], [0.1111111111111111, \"#46039f\"], [0.2222222222222222, \"#7201a8\"], [0.3333333333333333, \"#9c179e\"], [0.4444444444444444, \"#bd3786\"], [0.5555555555555556, \"#d8576b\"], [0.6666666666666666, \"#ed7953\"], [0.7777777777777778, \"#fb9f3a\"], [0.8888888888888888, \"#fdca26\"], [1.0, \"#f0f921\"]], \"type\": \"heatmap\"}], \"heatmapgl\": [{\"colorbar\": {\"outlinewidth\": 0, \"ticks\": \"\"}, \"colorscale\": [[0.0, \"#0d0887\"], [0.1111111111111111, \"#46039f\"], [0.2222222222222222, \"#7201a8\"], [0.3333333333333333, \"#9c179e\"], [0.4444444444444444, \"#bd3786\"], [0.5555555555555556, \"#d8576b\"], [0.6666666666666666, \"#ed7953\"], [0.7777777777777778, \"#fb9f3a\"], [0.8888888888888888, \"#fdca26\"], [1.0, \"#f0f921\"]], \"type\": \"heatmapgl\"}], \"histogram\": [{\"marker\": {\"colorbar\": {\"outlinewidth\": 0, \"ticks\": \"\"}}, \"type\": \"histogram\"}], \"histogram2d\": [{\"colorbar\": {\"outlinewidth\": 0, \"ticks\": \"\"}, \"colorscale\": [[0.0, \"#0d0887\"], [0.1111111111111111, \"#46039f\"], [0.2222222222222222, \"#7201a8\"], [0.3333333333333333, \"#9c179e\"], [0.4444444444444444, \"#bd3786\"], [0.5555555555555556, \"#d8576b\"], [0.6666666666666666, \"#ed7953\"], [0.7777777777777778, \"#fb9f3a\"], [0.8888888888888888, \"#fdca26\"], [1.0, \"#f0f921\"]], \"type\": \"histogram2d\"}], \"histogram2dcontour\": [{\"colorbar\": {\"outlinewidth\": 0, \"ticks\": \"\"}, \"colorscale\": [[0.0, \"#0d0887\"], [0.1111111111111111, \"#46039f\"], [0.2222222222222222, \"#7201a8\"], [0.3333333333333333, \"#9c179e\"], [0.4444444444444444, \"#bd3786\"], [0.5555555555555556, \"#d8576b\"], [0.6666666666666666, \"#ed7953\"], [0.7777777777777778, \"#fb9f3a\"], [0.8888888888888888, \"#fdca26\"], [1.0, \"#f0f921\"]], \"type\": \"histogram2dcontour\"}], \"mesh3d\": [{\"colorbar\": {\"outlinewidth\": 0, \"ticks\": \"\"}, \"type\": \"mesh3d\"}], \"parcoords\": [{\"line\": {\"colorbar\": {\"outlinewidth\": 0, \"ticks\": \"\"}}, \"type\": \"parcoords\"}], \"pie\": [{\"automargin\": true, \"type\": \"pie\"}], \"scatter\": [{\"marker\": {\"colorbar\": {\"outlinewidth\": 0, \"ticks\": \"\"}}, \"type\": \"scatter\"}], \"scatter3d\": [{\"line\": {\"colorbar\": {\"outlinewidth\": 0, \"ticks\": \"\"}}, \"marker\": {\"colorbar\": {\"outlinewidth\": 0, \"ticks\": \"\"}}, \"type\": \"scatter3d\"}], \"scattercarpet\": [{\"marker\": {\"colorbar\": {\"outlinewidth\": 0, \"ticks\": \"\"}}, \"type\": \"scattercarpet\"}], \"scattergeo\": [{\"marker\": {\"colorbar\": {\"outlinewidth\": 0, \"ticks\": \"\"}}, \"type\": \"scattergeo\"}], \"scattergl\": [{\"marker\": {\"colorbar\": {\"outlinewidth\": 0, \"ticks\": \"\"}}, \"type\": \"scattergl\"}], \"scattermapbox\": [{\"marker\": {\"colorbar\": {\"outlinewidth\": 0, \"ticks\": \"\"}}, \"type\": \"scattermapbox\"}], \"scatterpolar\": [{\"marker\": {\"colorbar\": {\"outlinewidth\": 0, \"ticks\": \"\"}}, \"type\": \"scatterpolar\"}], \"scatterpolargl\": [{\"marker\": {\"colorbar\": {\"outlinewidth\": 0, \"ticks\": \"\"}}, \"type\": \"scatterpolargl\"}], \"scatterternary\": [{\"marker\": {\"colorbar\": {\"outlinewidth\": 0, \"ticks\": \"\"}}, \"type\": \"scatterternary\"}], \"surface\": [{\"colorbar\": {\"outlinewidth\": 0, \"ticks\": \"\"}, \"colorscale\": [[0.0, \"#0d0887\"], [0.1111111111111111, \"#46039f\"], [0.2222222222222222, \"#7201a8\"], [0.3333333333333333, \"#9c179e\"], [0.4444444444444444, \"#bd3786\"], [0.5555555555555556, \"#d8576b\"], [0.6666666666666666, \"#ed7953\"], [0.7777777777777778, \"#fb9f3a\"], [0.8888888888888888, \"#fdca26\"], [1.0, \"#f0f921\"]], \"type\": \"surface\"}], \"table\": [{\"cells\": {\"fill\": {\"color\": \"#EBF0F8\"}, \"line\": {\"color\": \"white\"}}, \"header\": {\"fill\": {\"color\": \"#C8D4E3\"}, \"line\": {\"color\": \"white\"}}, \"type\": \"table\"}]}, \"layout\": {\"annotationdefaults\": {\"arrowcolor\": \"#2a3f5f\", \"arrowhead\": 0, \"arrowwidth\": 1}, \"coloraxis\": {\"colorbar\": {\"outlinewidth\": 0, \"ticks\": \"\"}}, \"colorscale\": {\"diverging\": [[0, \"#8e0152\"], [0.1, \"#c51b7d\"], [0.2, \"#de77ae\"], [0.3, \"#f1b6da\"], [0.4, \"#fde0ef\"], [0.5, \"#f7f7f7\"], [0.6, \"#e6f5d0\"], [0.7, \"#b8e186\"], [0.8, \"#7fbc41\"], [0.9, \"#4d9221\"], [1, \"#276419\"]], \"sequential\": [[0.0, \"#0d0887\"], [0.1111111111111111, \"#46039f\"], [0.2222222222222222, \"#7201a8\"], [0.3333333333333333, \"#9c179e\"], [0.4444444444444444, \"#bd3786\"], [0.5555555555555556, \"#d8576b\"], [0.6666666666666666, \"#ed7953\"], [0.7777777777777778, \"#fb9f3a\"], [0.8888888888888888, \"#fdca26\"], [1.0, \"#f0f921\"]], \"sequentialminus\": [[0.0, \"#0d0887\"], [0.1111111111111111, \"#46039f\"], [0.2222222222222222, \"#7201a8\"], [0.3333333333333333, \"#9c179e\"], [0.4444444444444444, \"#bd3786\"], [0.5555555555555556, \"#d8576b\"], [0.6666666666666666, \"#ed7953\"], [0.7777777777777778, \"#fb9f3a\"], [0.8888888888888888, \"#fdca26\"], [1.0, \"#f0f921\"]]}, \"colorway\": [\"#636efa\", \"#EF553B\", \"#00cc96\", \"#ab63fa\", \"#FFA15A\", \"#19d3f3\", \"#FF6692\", \"#B6E880\", \"#FF97FF\", \"#FECB52\"], \"font\": {\"color\": \"#2a3f5f\"}, \"geo\": {\"bgcolor\": \"white\", \"lakecolor\": \"white\", \"landcolor\": \"#E5ECF6\", \"showlakes\": true, \"showland\": true, \"subunitcolor\": \"white\"}, \"hoverlabel\": {\"align\": \"left\"}, \"hovermode\": \"closest\", \"mapbox\": {\"style\": \"light\"}, \"paper_bgcolor\": \"white\", \"plot_bgcolor\": \"#E5ECF6\", \"polar\": {\"angularaxis\": {\"gridcolor\": \"white\", \"linecolor\": \"white\", \"ticks\": \"\"}, \"bgcolor\": \"#E5ECF6\", \"radialaxis\": {\"gridcolor\": \"white\", \"linecolor\": \"white\", \"ticks\": \"\"}}, \"scene\": {\"xaxis\": {\"backgroundcolor\": \"#E5ECF6\", \"gridcolor\": \"white\", \"gridwidth\": 2, \"linecolor\": \"white\", \"showbackground\": true, \"ticks\": \"\", \"zerolinecolor\": \"white\"}, \"yaxis\": {\"backgroundcolor\": \"#E5ECF6\", \"gridcolor\": \"white\", \"gridwidth\": 2, \"linecolor\": \"white\", \"showbackground\": true, \"ticks\": \"\", \"zerolinecolor\": \"white\"}, \"zaxis\": {\"backgroundcolor\": \"#E5ECF6\", \"gridcolor\": \"white\", \"gridwidth\": 2, \"linecolor\": \"white\", \"showbackground\": true, \"ticks\": \"\", \"zerolinecolor\": \"white\"}}, \"shapedefaults\": {\"line\": {\"color\": \"#2a3f5f\"}}, \"ternary\": {\"aaxis\": {\"gridcolor\": \"white\", \"linecolor\": \"white\", \"ticks\": \"\"}, \"baxis\": {\"gridcolor\": \"white\", \"linecolor\": \"white\", \"ticks\": \"\"}, \"bgcolor\": \"#E5ECF6\", \"caxis\": {\"gridcolor\": \"white\", \"linecolor\": \"white\", \"ticks\": \"\"}}, \"title\": {\"x\": 0.05}, \"xaxis\": {\"automargin\": true, \"gridcolor\": \"white\", \"linecolor\": \"white\", \"ticks\": \"\", \"title\": {\"standoff\": 15}, \"zerolinecolor\": \"white\", \"zerolinewidth\": 2}, \"yaxis\": {\"automargin\": true, \"gridcolor\": \"white\", \"linecolor\": \"white\", \"ticks\": \"\", \"title\": {\"standoff\": 15}, \"zerolinecolor\": \"white\", \"zerolinewidth\": 2}}}},\n",
              "                        {\"responsive\": true}\n",
              "                    ).then(function(){\n",
              "                            \n",
              "var gd = document.getElementById('4cab638c-b8e0-4290-8c02-aca9b786fadf');\n",
              "var x = new MutationObserver(function (mutations, observer) {{\n",
              "        var display = window.getComputedStyle(gd).display;\n",
              "        if (!display || display === 'none') {{\n",
              "            console.log([gd, 'removed!']);\n",
              "            Plotly.purge(gd);\n",
              "            observer.disconnect();\n",
              "        }}\n",
              "}});\n",
              "\n",
              "// Listen for the removal of the full notebook cells\n",
              "var notebookContainer = gd.closest('#notebook-container');\n",
              "if (notebookContainer) {{\n",
              "    x.observe(notebookContainer, {childList: true});\n",
              "}}\n",
              "\n",
              "// Listen for the clearing of the current output cell\n",
              "var outputEl = gd.closest('.output');\n",
              "if (outputEl) {{\n",
              "    x.observe(outputEl, {childList: true});\n",
              "}}\n",
              "\n",
              "                        })\n",
              "                };\n",
              "                \n",
              "            </script>\n",
              "        </div>\n",
              "</body>\n",
              "</html>"
            ]
          },
          "metadata": {}
        }
      ]
    },
    {
      "cell_type": "markdown",
      "metadata": {
        "id": "IQHQBKu7Y9hz"
      },
      "source": [
        "## CNN Model"
      ]
    },
    {
      "cell_type": "markdown",
      "metadata": {
        "id": "eGh-xyc_gpC5"
      },
      "source": [
        "we used 3D cubes 100x100x100\n"
      ]
    },
    {
      "cell_type": "code",
      "metadata": {
        "colab": {
          "base_uri": "https://localhost:8080/"
        },
        "id": "HKL6cAVnGRHa",
        "outputId": "4cb3de77-f903-42a3-ef3a-e8349421db8b"
      },
      "source": [
        "train_cubes"
      ],
      "execution_count": 85,
      "outputs": [
        {
          "output_type": "execute_result",
          "data": {
            "text/plain": [
              "<BatchDataset shapes: ((None, 100, 100, 100, 1), (None, 5)), types: (tf.int8, tf.float64)>"
            ]
          },
          "metadata": {},
          "execution_count": 85
        }
      ]
    },
    {
      "cell_type": "code",
      "metadata": {
        "id": "IuQY8ptv99-p"
      },
      "source": [
        "# import tensorflow.keras.backend as K\n",
        "# K.set_floatx('float32')\n",
        "# K.set_epsilon(1e-4) #default is 1e-7\n",
        "\n",
        "model_2=tf.keras.models.Sequential([\n",
        "  tf.keras.layers.InputLayer(input_shape=train_cubes.element_spec[0].shape[1:]),\n",
        "  tf.keras.layers.Conv3D(filters=128, kernel_size=10,strides=2, activation='relu', name='conv3d_0',),\n",
        "  tf.keras.layers.MaxPool3D(10,strides=2),\n",
        "  tf.keras.layers.Conv3D(filters=64, kernel_size=2, activation='relu', name='conv3d_1'),\n",
        "  tf.keras.layers.MaxPool3D(2),\n",
        "  tf.keras.layers.Conv3D(filters=32, kernel_size=2, activation='relu', name='conv3d_2'),\n",
        "  # tf.keras.layers.MaxPool3D(2),\n",
        "  # tf.keras.layers.Conv3D(filters=16, kernel_size=2, activation='relu', name='conv3d_3'),\n",
        "  tf.keras.layers.Flatten(),\n",
        "  tf.keras.layers.Dropout(.4),\n",
        "\n",
        "  tf.keras.layers.Dense(train_cubes.element_spec[1].shape[-1], activation='softmax', name='softmax')\n",
        "])\n"
      ],
      "execution_count": 102,
      "outputs": []
    },
    {
      "cell_type": "code",
      "metadata": {
        "id": "lXU_EKC8AByv"
      },
      "source": [
        "model_2.compile(loss='categorical_crossentropy', optimizer='adam', \n",
        "              metrics=['accuracy']\n",
        "              )\n"
      ],
      "execution_count": 103,
      "outputs": []
    },
    {
      "cell_type": "code",
      "metadata": {
        "colab": {
          "base_uri": "https://localhost:8080/"
        },
        "id": "GaMv4vJoq7ox",
        "outputId": "f35ad915-5db0-4200-8a5d-27ec4c842e13"
      },
      "source": [
        "model_2.summary()"
      ],
      "execution_count": 74,
      "outputs": [
        {
          "output_type": "stream",
          "name": "stdout",
          "text": [
            "Model: \"sequential_4\"\n",
            "_________________________________________________________________\n",
            " Layer (type)                Output Shape              Param #   \n",
            "=================================================================\n",
            " conv3d_0 (Conv3D)           (None, 46, 46, 46, 128)   128128    \n",
            "                                                                 \n",
            " max_pooling3d_13 (MaxPoolin  (None, 19, 19, 19, 128)  0         \n",
            " g3D)                                                            \n",
            "                                                                 \n",
            " conv3d_1 (Conv3D)           (None, 18, 18, 18, 64)    65600     \n",
            "                                                                 \n",
            " max_pooling3d_14 (MaxPoolin  (None, 9, 9, 9, 64)      0         \n",
            " g3D)                                                            \n",
            "                                                                 \n",
            " conv3d_2 (Conv3D)           (None, 8, 8, 8, 32)       16416     \n",
            "                                                                 \n",
            " flatten_5 (Flatten)         (None, 16384)             0         \n",
            "                                                                 \n",
            " softmax (Dense)             (None, 5)                 81925     \n",
            "                                                                 \n",
            "=================================================================\n",
            "Total params: 292,069\n",
            "Trainable params: 292,069\n",
            "Non-trainable params: 0\n",
            "_________________________________________________________________\n"
          ]
        }
      ]
    },
    {
      "cell_type": "code",
      "metadata": {
        "id": "d_KSwJrV6sLR"
      },
      "source": [
        "# model_2.optimizer = optimizer\n",
        "train_cubes = train_cubes.cache()\n",
        "val_cubes=val_cubes.cache()"
      ],
      "execution_count": 92,
      "outputs": []
    },
    {
      "cell_type": "code",
      "metadata": {
        "colab": {
          "base_uri": "https://localhost:8080/"
        },
        "id": "BeKp0bIFGUL-",
        "outputId": "cf95f7b6-c98e-4357-bd18-65be6ff339ff"
      },
      "source": [
        "epochs=10\n",
        "history=model_2.fit(train_cubes, validation_data =val_cubes,\n",
        "                      epochs=epochs,\n",
        "                      # steps_per_epoch=split//batch_size,\n",
        "                      # validation_steps = int(length - split)//batch_size\n",
        "                      )"
      ],
      "execution_count": 104,
      "outputs": [
        {
          "output_type": "stream",
          "name": "stdout",
          "text": [
            "Epoch 1/10\n",
            "63/63 [==============================] - 118s 2s/step - loss: 0.9910 - accuracy: 0.6008 - val_loss: 0.4295 - val_accuracy: 0.8296\n",
            "Epoch 2/10\n",
            "63/63 [==============================] - 117s 2s/step - loss: 0.4282 - accuracy: 0.8378 - val_loss: 0.2121 - val_accuracy: 0.9103\n",
            "Epoch 3/10\n",
            "63/63 [==============================] - 116s 2s/step - loss: 0.2494 - accuracy: 0.9097 - val_loss: 0.1596 - val_accuracy: 0.9283\n",
            "Epoch 4/10\n",
            "63/63 [==============================] - 116s 2s/step - loss: 0.1758 - accuracy: 0.9406 - val_loss: 0.1390 - val_accuracy: 0.9462\n",
            "Epoch 5/10\n",
            "63/63 [==============================] - 116s 2s/step - loss: 0.1282 - accuracy: 0.9551 - val_loss: 0.1068 - val_accuracy: 0.9596\n",
            "Epoch 6/10\n",
            "63/63 [==============================] - 117s 2s/step - loss: 0.0999 - accuracy: 0.9666 - val_loss: 0.1146 - val_accuracy: 0.9686\n",
            "Epoch 7/10\n",
            "63/63 [==============================] - 116s 2s/step - loss: 0.0725 - accuracy: 0.9775 - val_loss: 0.1022 - val_accuracy: 0.9731\n",
            "Epoch 8/10\n",
            "63/63 [==============================] - 116s 2s/step - loss: 0.0606 - accuracy: 0.9805 - val_loss: 0.0882 - val_accuracy: 0.9731\n",
            "Epoch 9/10\n",
            "63/63 [==============================] - 116s 2s/step - loss: 0.0620 - accuracy: 0.9770 - val_loss: 0.0843 - val_accuracy: 0.9686\n",
            "Epoch 10/10\n",
            "63/63 [==============================] - 116s 2s/step - loss: 0.0429 - accuracy: 0.9865 - val_loss: 0.0947 - val_accuracy: 0.9776\n"
          ]
        }
      ]
    },
    {
      "cell_type": "code",
      "metadata": {
        "colab": {
          "base_uri": "https://localhost:8080/",
          "height": 336
        },
        "id": "OyyA_uZJrQeu",
        "outputId": "b39897cc-4c6b-4972-8a17-49ce214727a5"
      },
      "source": [
        "import matplotlib.pyplot as plt\n",
        "\n",
        "plt.style.use('grayscale')\n",
        "\n",
        "loss = history.history['loss']\n",
        "val_loss = history.history['val_loss']\n",
        "accuracy = history.history['accuracy']\n",
        "val_accuracy = history.history['val_accuracy']\n",
        "epoch_scale = range(1,len(loss)+1)\n",
        "fig = plt.figure(figsize=(15,5))\n",
        "ax=fig.add_subplot(1,2,1,)\n",
        "ax.set_title('a) Loss')\n",
        "ax.plot(epoch_scale, loss,'*-')\n",
        "ax.plot(epoch_scale, val_loss, '*-')\n",
        "ax.legend([\"training\", \"validation\"])\n",
        "# ax.axes.margins(0)\n",
        "ax1=fig.add_subplot(1,2,2)\n",
        "ax1.set_title('b) Accuracy')\n",
        "ax1.plot(epoch_scale, accuracy, 'o-')\n",
        "ax1.plot(epoch_scale, val_accuracy, '*-')\n",
        "ax1.legend([\"training\", \"validation\"])\n",
        "\n",
        "fig.show()"
      ],
      "execution_count": 105,
      "outputs": [
        {
          "output_type": "display_data",
          "data": {
            "image/png": "[encoded data removed]",
            "text/plain": [
              "<Figure size 1080x360 with 2 Axes>"
            ]
          },
          "metadata": {}
        }
      ]
    },
    {
      "cell_type": "code",
      "metadata": {
        "colab": {
          "base_uri": "https://localhost:8080/"
        },
        "id": "CEDB4W9gGOaY",
        "outputId": "031a4257-46ee-4675-e1fa-a9c50a6c5e10"
      },
      "source": [
        "initial_epoch=epochs\n",
        "epochs=epochs+10\n",
        "history=model_2.fit(train_cubes, validation_data =val_cubes,\n",
        "                      epochs=epochs,\n",
        "                      initial_epoch = initial_epoch,\n",
        "                      # steps_per_epoch=split//batch_size,\n",
        "                      # validation_steps = int(length - split)//batch_size\n",
        "                      )"
      ],
      "execution_count": 106,
      "outputs": [
        {
          "output_type": "stream",
          "name": "stdout",
          "text": [
            "Epoch 11/20\n",
            "63/63 [==============================] - 117s 2s/step - loss: 0.0503 - accuracy: 0.9845 - val_loss: 0.1158 - val_accuracy: 0.9686\n",
            "Epoch 12/20\n",
            "63/63 [==============================] - 117s 2s/step - loss: 0.0314 - accuracy: 0.9895 - val_loss: 0.1087 - val_accuracy: 0.9776\n",
            "Epoch 13/20\n",
            "63/63 [==============================] - 117s 2s/step - loss: 0.0254 - accuracy: 0.9935 - val_loss: 0.1002 - val_accuracy: 0.9776\n",
            "Epoch 14/20\n",
            "63/63 [==============================] - 116s 2s/step - loss: 0.0212 - accuracy: 0.9940 - val_loss: 0.0958 - val_accuracy: 0.9776\n",
            "Epoch 15/20\n",
            "63/63 [==============================] - 117s 2s/step - loss: 0.0175 - accuracy: 0.9940 - val_loss: 0.1122 - val_accuracy: 0.9776\n",
            "Epoch 16/20\n",
            "63/63 [==============================] - 116s 2s/step - loss: 0.0206 - accuracy: 0.9950 - val_loss: 0.1095 - val_accuracy: 0.9776\n",
            "Epoch 17/20\n",
            "63/63 [==============================] - 117s 2s/step - loss: 0.0144 - accuracy: 0.9965 - val_loss: 0.1106 - val_accuracy: 0.9865\n",
            "Epoch 18/20\n",
            "63/63 [==============================] - 116s 2s/step - loss: 0.0221 - accuracy: 0.9925 - val_loss: 0.1016 - val_accuracy: 0.9776\n",
            "Epoch 19/20\n",
            "63/63 [==============================] - 117s 2s/step - loss: 0.0208 - accuracy: 0.9930 - val_loss: 0.1174 - val_accuracy: 0.9776\n",
            "Epoch 20/20\n",
            "63/63 [==============================] - 117s 2s/step - loss: 0.0138 - accuracy: 0.9945 - val_loss: 0.1207 - val_accuracy: 0.9821\n"
          ]
        }
      ]
    },
    {
      "cell_type": "code",
      "metadata": {
        "id": "QZu9Rr2zuWBv"
      },
      "source": [
        "loss=[*loss, *history.history['loss']]\n",
        "val_loss =[*val_loss, *history.history['val_loss']]\n",
        "accuracy =[*accuracy, *history.history['accuracy']]\n",
        "val_accuracy =[*val_accuracy, *history.history['val_accuracy']]\n",
        "epoch_scale = range(1,len(loss)+1)\n"
      ],
      "execution_count": 107,
      "outputs": []
    },
    {
      "cell_type": "code",
      "metadata": {
        "colab": {
          "base_uri": "https://localhost:8080/",
          "height": 336
        },
        "id": "KkzbYCYq7y5F",
        "outputId": "0d5443a9-ca62-4193-fbd7-c502450b75de"
      },
      "source": [
        "\n",
        "fig = plt.figure(figsize=(15,5))\n",
        "ax=fig.add_subplot(1,2,1,)\n",
        "ax.set_title('a) Loss')\n",
        "ax.plot(epoch_scale, loss,'*-')\n",
        "ax.plot(epoch_scale, val_loss, '*-')\n",
        "ax.legend([\"training\", \"validation\"])\n",
        "# ax.axes.margins(0)\n",
        "ax1=fig.add_subplot(1,2,2)\n",
        "ax1.set_title('b) Accuracy')\n",
        "ax1.plot(epoch_scale, accuracy, 'o-')\n",
        "ax1.plot(epoch_scale, val_accuracy, '*-')\n",
        "ax1.legend([\"training\", \"validation\"])\n",
        "\n",
        "fig.show()"
      ],
      "execution_count": 108,
      "outputs": [
        {
          "output_type": "display_data",
          "data": {
            "image/png": "[encoded data removed]",
            "text/plain": [
              "<Figure size 1080x360 with 2 Axes>"
            ]
          },
          "metadata": {}
        }
      ]
    },
    {
      "cell_type": "markdown",
      "metadata": {
        "id": "jZ_J4yaxgYyx"
      },
      "source": [
        "for 20 epochs the same result is getting\n",
        "so 10 epochs is enaugh"
      ]
    },
    {
      "cell_type": "markdown",
      "metadata": {
        "id": "XgYxakD9MMdr"
      },
      "source": [
        "We got 98% accuracy for our 3D images of RF-Matrices, and these images is invariant to the number of trees in the matrices or order of entry of trees to the matrix eather"
      ]
    },
    {
      "cell_type": "markdown",
      "metadata": {
        "id": "dN405zd6nTyy"
      },
      "source": [
        "##Confusion matrix"
      ]
    },
    {
      "cell_type": "code",
      "metadata": {
        "id": "p8fpkqi1nXag"
      },
      "source": [
        "ds = tf.data.Dataset.from_tensor_slices((test_x,test_y))\n",
        "ds = ds.map(to_3DCube)\n",
        "test_cubes = ds.map(lambda ind,val,l:[tf.SparseTensor(ind,tf.squeeze(val),shape_3D),l])\n",
        "test_cubes= test_cubes.map(lambda c,l:[tf.expand_dims(tf.sparse.to_dense(c,default_value=0,validate_indices=False), axis=-1),l])\n",
        "\n",
        "test_array = np.array(list(test_cubes.as_numpy_iterator()),dtype=object)\n",
        "tst_x = np.stack(test_array[:,0])\n",
        "tst_y = np.stack(test_array[:,1])\n"
      ],
      "execution_count": 109,
      "outputs": []
    },
    {
      "cell_type": "code",
      "metadata": {
        "id": "KUquE58Bu54j"
      },
      "source": [
        "\n",
        "# Use the model to predict the labels\n",
        "test_predictions = model_2.predict(tst_x,steps=tst_x.shape[0])\n",
        "test_y_pred = np.argmax(test_predictions, axis=1)\n",
        "test_y_true = np.argmax(tst_y, axis=1)"
      ],
      "execution_count": 110,
      "outputs": []
    },
    {
      "cell_type": "code",
      "metadata": {
        "colab": {
          "base_uri": "https://localhost:8080/"
        },
        "id": "DW49EsZ2nclT",
        "outputId": "68443929-6690-4921-e486-4bd4ca40dcfd"
      },
      "source": [
        "from sklearn.metrics import confusion_matrix\n",
        "confMat=confusion_matrix( test_y_pred,test_y_true)\n",
        "print( np.sum(np.diag(confMat))/len(test_y_true))"
      ],
      "execution_count": 111,
      "outputs": [
        {
          "output_type": "stream",
          "name": "stdout",
          "text": [
            "0.9717741935483871\n"
          ]
        }
      ]
    },
    {
      "cell_type": "code",
      "metadata": {
        "colab": {
          "base_uri": "https://localhost:8080/",
          "height": 585
        },
        "id": "IkCdkpU7njJ3",
        "outputId": "aa9da859-31fe-4a9a-f6c1-e4f376242195"
      },
      "source": [
        "import itertools\n",
        "import io\n",
        "from tensorflow.image import decode_png\n",
        "\n",
        "def plot_confusion_matrix(cm, class_names):\n",
        "  \"\"\"\n",
        "  Returns a matplotlib figure containing the plotted confusion matrix.\n",
        "\n",
        "  Args:\n",
        "    cm (array, shape = [n, n]): a confusion matrix of integer classes\n",
        "    class_names (array, shape = [n]): String names of the integer classes\n",
        "  \"\"\"\n",
        "  figure = plt.figure(figsize=(8, 8))\n",
        "  plt.imshow(cm, interpolation='nearest', cmap=plt.cm.gray_r)\n",
        "  plt.title(\"Confusion matrix\")\n",
        "  plt.colorbar()\n",
        "  tick_marks = np.arange(len(class_names))\n",
        "  plt.xticks(tick_marks, class_names, rotation=90)\n",
        "  plt.yticks(tick_marks, class_names)\n",
        "\n",
        "  # Normalize the confusion matrix.\n",
        "  cm = np.around(cm.astype(np.float) / cm.sum(axis=1)[:, np.newaxis], decimals=2)\n",
        "\n",
        "  # Use white text if squares are dark; otherwise black.\n",
        "  threshold = cm.max() / 2.\n",
        "  for i, j in itertools.product(range(cm.shape[0]), range(cm.shape[1])):\n",
        "    color = \"white\" if cm[i, j] > threshold else \"black\"\n",
        "    plt.text(j, i, cm[i, j], horizontalalignment=\"center\", color=color)\n",
        "\n",
        "  plt.tight_layout()\n",
        "  plt.ylabel('True label')\n",
        "  plt.xlabel('Predicted label')\n",
        "  # return figure\n",
        "\n",
        "plot_confusion_matrix(confMat,class_names=('one','two','three','four','five'))"
      ],
      "execution_count": 112,
      "outputs": [
        {
          "output_type": "display_data",
          "data": {
            "image/png": "[encoded data removed]",
            "text/plain": [
              "<Figure size 576x576 with 2 Axes>"
            ]
          },
          "metadata": {}
        }
      ]
    }
  ]
}