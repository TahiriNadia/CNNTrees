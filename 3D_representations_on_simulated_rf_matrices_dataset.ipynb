{
  "nbformat": 4,
  "nbformat_minor": 0,
  "metadata": {
    "colab": {
      "name": "Stable 3D representations on simulated rf_matrices dataset.ipynb",
      "provenance": [],
      "collapsed_sections": [],
      "include_colab_link": true
    },
    "kernelspec": {
      "name": "python3",
      "display_name": "Python 3"
    },
    "accelerator": "GPU"
  },
  "cells": [
    {
      "cell_type": "markdown",
      "metadata": {
        "id": "view-in-github",
        "colab_type": "text"
      },
      "source": [
        "<a href=\"https://colab.research.google.com/github/TahiriNadia/CNNTrees/blob/master/3D_representations_on_simulated_rf_matrices_dataset.ipynb\" target=\"_parent\"><img src=\"https://colab.research.google.com/assets/colab-badge.svg\" alt=\"Open In Colab\"/></a>"
      ]
    },
    {
      "cell_type": "markdown",
      "metadata": {
        "id": "Gic-3uAuSIKo"
      },
      "source": [
        "####Start"
      ]
    },
    {
      "cell_type": "code",
      "metadata": {
        "id": "bzx78yVlZPN1"
      },
      "source": [
        "import os\n",
        "import numpy  as np\n",
        "import urllib.request as url\n",
        "from array import *\n",
        "import random\n",
        "import tensorflow as tf\n",
        "# tf.compat.v1.disable_eager_execution()"
      ],
      "execution_count": 1,
      "outputs": []
    },
    {
      "cell_type": "markdown",
      "metadata": {
        "id": "54_f6raUU5Vh"
      },
      "source": [
        "### Small simulated dataset"
      ]
    },
    {
      "cell_type": "code",
      "metadata": {
        "id": "Wh9CNFRMPy85",
        "colab": {
          "base_uri": "https://localhost:8080/"
        },
        "outputId": "a7cd061b-18c8-4a4a-a49a-fa93796bbabc"
      },
      "source": [
        "# b'20',    b'8',     b'1',       b'0',           b'0'\n",
        "# nb_arbre, nb_taxon, nb_cluster, percent_noise, nb_eloignement\n",
        "def mask_cluster (nb_cluster):\n",
        "    cluster = np.zeros((1,NB_CLUSTERS))\n",
        "    cluster[0,nb_cluster-1]=1\n",
        "    return cluster\n",
        "\n",
        "NB_CLUSTERS=5\n",
        "NB_DEPTH=5808\n",
        "NB_N=20\n",
        "\n",
        "values_i = np.zeros((NB_DEPTH,NB_N,NB_N))\n",
        "cluster_i = np.zeros((NB_DEPTH,NB_CLUSTERS))\n",
        "nb_eloignements = np.zeros((NB_DEPTH))\n",
        "cluster_ii = np.zeros((NB_DEPTH,NB_N,NB_CLUSTERS))\n",
        "\n",
        "fh = url.urlopen( \"https://github.com/TahiriNadia/ML_DL_Classification_Trees/raw/master/data/simulation/simulation_dataset\")\n",
        "depth = 0\n",
        "l_i = 1\n",
        "\n",
        "while True:\n",
        "    ligne = fh.readline()\n",
        "    nb_arbre,nb_taxon,nb_cluster,percent_noise,nb_eloignement = ligne.split()\n",
        "    cluster_i[depth]=mask_cluster(int(nb_cluster))\n",
        "    # cluster_ii[depth]=mask_cluster2(int(nb_cluster), int(nb_arbre))\n",
        "    nb_eloignements[depth]=nb_eloignement\n",
        "    for i in range(0, int(nb_arbre)):\n",
        "        ligne = fh.readline()\n",
        "        values_i [depth,i,:] = ligne.split()\n",
        "\n",
        "    ligne = fh.readline()\n",
        "    depth = depth + 1\n",
        "    l_i = l_i + int(nb_arbre) + 2\n",
        "    if not ligne:\n",
        "      break\n",
        "fh.close\n"
      ],
      "execution_count": 2,
      "outputs": [
        {
          "output_type": "execute_result",
          "data": {
            "text/plain": [
              "<bound method HTTPResponse.close of <http.client.HTTPResponse object at 0x7f40abac7990>>"
            ]
          },
          "metadata": {
            "tags": []
          },
          "execution_count": 2
        }
      ]
    },
    {
      "cell_type": "code",
      "metadata": {
        "id": "eHpvJhpxVQlh"
      },
      "source": [
        "def ConditionedSamples(x_values,y_values):\n",
        "  nonzero = np.squeeze(np.sum(x_values,axis=(1,2))!=0) # indexes of zero matrices\n",
        "  remoteness_down = (nb_eloignements >= 25)\n",
        "  remoteness_up = (nb_eloignements < 75)\n",
        "  remoteness = remoteness_down & remoteness_up\n",
        "  # only_four = (y_values[:,4]==0)\n",
        "\n",
        "  Conditioned_Index = nonzero & remoteness #& only_four\n",
        "  X, y, remotenesses = x_values[Conditioned_Index], y_values[Conditioned_Index], nb_eloignements[Conditioned_Index]\n",
        "  return X,y, Conditioned_Index\n",
        "\n",
        "X, y, Conditioned_Index= ConditionedSamples(values_i,cluster_i)\n"
      ],
      "execution_count": 3,
      "outputs": []
    },
    {
      "cell_type": "code",
      "metadata": {
        "id": "QOlOyHa7Z71n",
        "colab": {
          "base_uri": "https://localhost:8080/"
        },
        "outputId": "d2656372-9886-46e8-f0eb-db707a7f0691"
      },
      "source": [
        "y.shape"
      ],
      "execution_count": 4,
      "outputs": [
        {
          "output_type": "execute_result",
          "data": {
            "text/plain": [
              "(2475, 5)"
            ]
          },
          "metadata": {
            "tags": []
          },
          "execution_count": 4
        }
      ]
    },
    {
      "cell_type": "code",
      "metadata": {
        "id": "Kg7tWXO0jG_y"
      },
      "source": [
        "import plotly.graph_objs as go\n",
        "\n",
        "NBins=6 # number \"m\" in article\n",
        "Density =10\n",
        "\n",
        "Value_Range=tf.constant([0.,1.],dtype=tf.float32)\n",
        "\n",
        "@tf.function(experimental_relax_shapes=True)\n",
        "def tf_normalize(tensor):\n",
        "  tensor=tf.cast(tensor,tf.float32)\n",
        "  min = tf.reduce_min(tensor)\n",
        "  return tf.divide( \n",
        "      tf.subtract(tensor, min), \n",
        "      tf.add(tf.subtract(tf.reduce_max(tensor), min),tf.constant(1e-25,dtype=tf.float32))\n",
        "      )\n",
        "  \n",
        "@tf.function(experimental_relax_shapes=True)\n",
        "def to_3DCube(rf_matrix, claster_num=-1, length=20): \n",
        "  #length - number \"n\" in article\n",
        "\n",
        "  # length = rf_matrix.shape[0]\n",
        "  NBins=tf.constant(New_dims, dtype=tf.int32)\n",
        "  \n",
        "  updates=tf.ones(length)\n",
        "  # print(length)\n",
        "  @tf.function(experimental_relax_shapes=True)\n",
        "  def dens(row):\n",
        "    res = tf.cast(tf.histogram_fixed_width(tf_normalize(row), nbins=NBins ,value_range=Value_Range)/length*Density, tf.int32)\n",
        "    return res\n",
        "\n",
        "  coords = tf.vectorized_map(dens, rf_matrix)\n",
        "\n",
        "  cube=tf.scatter_nd(coords,updates,tf.repeat(Density,NBins))#[10,10,10,10,10,10]\n",
        "  flatten_cube = tf.reshape(cube,tf.repeat(Density*Density, 3))\n",
        "  sparse_cube = tf.sparse.from_dense(flatten_cube)\n",
        "  return (sparse_cube.indices, tf.expand_dims(tf.cast(sparse_cube.values,dtype = tf.int8), 1), claster_num)\n"
      ],
      "execution_count": 5,
      "outputs": []
    },
    {
      "cell_type": "code",
      "metadata": {
        "id": "E5HrEttZM_0_"
      },
      "source": [
        "from sklearn.model_selection import train_test_split\n",
        "test_size = 0.1\n",
        "train_x,test_x, train_y, test_y = train_test_split(X,y,test_size=test_size)"
      ],
      "execution_count": 6,
      "outputs": []
    },
    {
      "cell_type": "code",
      "metadata": {
        "id": "LJtvwTXgE1Ut",
        "colab": {
          "base_uri": "https://localhost:8080/"
        },
        "outputId": "34087da0-2777-4248-9686-59a7d31b70dc"
      },
      "source": [
        "\n",
        "import warnings\n",
        "warnings.filterwarnings(\"ignore\")\n",
        "\n",
        "Batch_size=64\n",
        "\n",
        "ds = tf.data.Dataset.from_tensor_slices((X,y))\n",
        "ds = ds.map(to_3DCube)\n",
        "cubes = ds.map(lambda ind,val,l:[tf.SparseTensor(ind,tf.squeeze(val),(100,100,100)),l])\n",
        "cubes= cubes.map(lambda c,l:[tf.expand_dims(tf.sparse.to_dense(c,default_value=0,validate_indices=False), axis=-1),l])\n",
        "\n",
        "length = X.shape[0]\n",
        "split = int(length*(1.-test_size))\n",
        "train_cubes=cubes.take(split).shuffle(1024).batch(Batch_size)\n",
        "val_cubes = cubes.skip(split).shuffle(1024).batch(Batch_size)\n",
        "\n",
        "steps_per_epoch=split//Batch_size\n",
        "validation_steps = int(length - split)//Batch_size\n",
        "\n"
      ],
      "execution_count": 7,
      "outputs": [
        {
          "output_type": "stream",
          "text": [
            "WARNING:tensorflow:Using a while_loop for converting HistogramFixedWidth\n"
          ],
          "name": "stdout"
        }
      ]
    },
    {
      "cell_type": "code",
      "metadata": {
        "colab": {
          "base_uri": "https://localhost:8080/"
        },
        "id": "XdD7xsFKYsd6",
        "outputId": "e9e5adf2-3bab-49ae-f2cc-d2e803a139dc"
      },
      "source": [
        "ds.element_spec"
      ],
      "execution_count": 8,
      "outputs": [
        {
          "output_type": "execute_result",
          "data": {
            "text/plain": [
              "(TensorSpec(shape=(None, 3), dtype=tf.int64, name=None),\n",
              " TensorSpec(shape=(None, 1), dtype=tf.int8, name=None),\n",
              " TensorSpec(shape=(5,), dtype=tf.float64, name=None))"
            ]
          },
          "metadata": {
            "tags": []
          },
          "execution_count": 8
        }
      ]
    },
    {
      "cell_type": "markdown",
      "metadata": {
        "id": "3euT7-Yap29g"
      },
      "source": [
        "## 3D Cubes"
      ]
    },
    {
      "cell_type": "markdown",
      "metadata": {
        "id": "65ImVk7Sg0UZ"
      },
      "source": [
        "since float 64 waste lot of memory for every representation I normalize the data to int8 for memory economy \n",
        "\n"
      ]
    },
    {
      "cell_type": "markdown",
      "metadata": {
        "id": "3I1NouojhFXb"
      },
      "source": [
        "we will describe that all in the paper\n"
      ]
    },
    {
      "cell_type": "code",
      "metadata": {
        "colab": {
          "base_uri": "https://localhost:8080/"
        },
        "id": "DMtV0AOpjgcq",
        "outputId": "5c0b8177-2da7-4165-e1ac-d0888f468790"
      },
      "source": [
        "train_cubes.element_spec"
      ],
      "execution_count": 10,
      "outputs": [
        {
          "output_type": "execute_result",
          "data": {
            "text/plain": [
              "(TensorSpec(shape=(None, 100, 100, 100, 1), dtype=tf.int8, name=None),\n",
              " TensorSpec(shape=(None, 5), dtype=tf.float64, name=None))"
            ]
          },
          "metadata": {
            "tags": []
          },
          "execution_count": 10
        }
      ]
    },
    {
      "cell_type": "markdown",
      "metadata": {
        "id": "mn837KjYRLIh"
      },
      "source": [
        "### Visualization"
      ]
    },
    {
      "cell_type": "code",
      "metadata": {
        "colab": {
          "base_uri": "https://localhost:8080/",
          "height": 576
        },
        "id": "lNOJmJuTSHO5",
        "outputId": "e6d43c16-2fbb-4320-e83b-b973bb81ad48"
      },
      "source": [
        "k=7\n",
        "vectors = to_3DCube(X[k])\n",
        "\n",
        "\n",
        "def pprint_sparse_tensor(st):\n",
        "  s = \"<SparseTensor shape=%s \\n values={\" % (st.dense_shape.numpy().tolist(),)\n",
        "  for (index, value) in zip(st.indices, st.values):\n",
        "    s += f\"\\n  %s: %s\" % (index.numpy().tolist(), value.numpy().tolist())\n",
        "  return s + \"}>\"\n",
        "\n",
        "# sparse_cube= tf.sparse.from_dense(cube)\n",
        "\n",
        "markers=dict(\n",
        "    size= 3*np.squeeze(vectors[1]),\n",
        "    opacity=0.8\n",
        "    )\n",
        "cluster_num = np.argmax(y[k])+1\n",
        "fig = go.Figure(data=[go.Scatter3d(\n",
        "      mode='markers',\n",
        "      x=vectors[0][:,0],\n",
        "      y=vectors[0][:,1],\n",
        "      z=vectors[0][:,2], \n",
        "      showlegend=True , # labelled_components[:,3]\n",
        "      marker=markers\n",
        "      )]\n",
        "      )\n",
        "  # tight layout\n",
        "fig.update_layout(margin=dict(l=0, r=0, b=0, t=0))\n",
        "print(F'Clasters: { cluster_num}, points: {vectors[0].shape[0]}')\n",
        "fig.show()"
      ],
      "execution_count": 11,
      "outputs": [
        {
          "output_type": "stream",
          "text": [
            "WARNING:tensorflow:Using a while_loop for converting HistogramFixedWidth\n",
            "Clasters: 2, points: 12\n"
          ],
          "name": "stdout"
        },
        {
          "output_type": "display_data",
          "data": {
            "text/html": [
              "<html>\n",
              "<head><meta charset=\"utf-8\" /></head>\n",
              "<body>\n",
              "    <div>\n",
              "            <script src=\"https://cdnjs.cloudflare.com/ajax/libs/mathjax/2.7.5/MathJax.js?config=TeX-AMS-MML_SVG\"></script><script type=\"text/javascript\">if (window.MathJax) {MathJax.Hub.Config({SVG: {font: \"STIX-Web\"}});}</script>\n",
              "                <script type=\"text/javascript\">window.PlotlyConfig = {MathJaxConfig: 'local'};</script>\n",
              "        <script src=\"https://cdn.plot.ly/plotly-latest.min.js\"></script>    \n",
              "            <div id=\"92c55441-6ca8-4613-89bd-b787339a499a\" class=\"plotly-graph-div\" style=\"height:525px; width:100%;\"></div>\n",
              "            <script type=\"text/javascript\">\n",
              "                \n",
              "                    window.PLOTLYENV=window.PLOTLYENV || {};\n",
              "                    \n",
              "                if (document.getElementById(\"92c55441-6ca8-4613-89bd-b787339a499a\")) {\n",
              "                    Plotly.newPlot(\n",
              "                        '92c55441-6ca8-4613-89bd-b787339a499a',\n",
              "                        [{\"marker\": {\"opacity\": 0.8, \"size\": [3, 6, 6, 6, 6, 3, 3, 3, 6, 6, 6, 6]}, \"mode\": \"markers\", \"showlegend\": true, \"type\": \"scatter3d\", \"x\": [0, 0, 0, 0, 0, 0, 0, 0, 0, 10, 10, 10], \"y\": [0, 10, 12, 12, 13, 13, 14, 14, 40, 12, 12, 12], \"z\": [54, 44, 14, 23, 14, 23, 31, 40, 13, 14, 22, 23]}],\n",
              "                        {\"margin\": {\"b\": 0, \"l\": 0, \"r\": 0, \"t\": 0}, \"template\": {\"data\": {\"bar\": [{\"error_x\": {\"color\": \"#2a3f5f\"}, \"error_y\": {\"color\": \"#2a3f5f\"}, \"marker\": {\"line\": {\"color\": \"#E5ECF6\", \"width\": 0.5}}, \"type\": \"bar\"}], \"barpolar\": [{\"marker\": {\"line\": {\"color\": \"#E5ECF6\", \"width\": 0.5}}, \"type\": \"barpolar\"}], \"carpet\": [{\"aaxis\": {\"endlinecolor\": \"#2a3f5f\", \"gridcolor\": \"white\", \"linecolor\": \"white\", \"minorgridcolor\": \"white\", \"startlinecolor\": \"#2a3f5f\"}, \"baxis\": {\"endlinecolor\": \"#2a3f5f\", \"gridcolor\": \"white\", \"linecolor\": \"white\", \"minorgridcolor\": \"white\", \"startlinecolor\": \"#2a3f5f\"}, \"type\": \"carpet\"}], \"choropleth\": [{\"colorbar\": {\"outlinewidth\": 0, \"ticks\": \"\"}, \"type\": \"choropleth\"}], \"contour\": [{\"colorbar\": {\"outlinewidth\": 0, \"ticks\": \"\"}, \"colorscale\": [[0.0, \"#0d0887\"], [0.1111111111111111, \"#46039f\"], [0.2222222222222222, \"#7201a8\"], [0.3333333333333333, \"#9c179e\"], [0.4444444444444444, \"#bd3786\"], [0.5555555555555556, \"#d8576b\"], [0.6666666666666666, \"#ed7953\"], [0.7777777777777778, \"#fb9f3a\"], [0.8888888888888888, \"#fdca26\"], [1.0, \"#f0f921\"]], \"type\": \"contour\"}], \"contourcarpet\": [{\"colorbar\": {\"outlinewidth\": 0, \"ticks\": \"\"}, \"type\": \"contourcarpet\"}], \"heatmap\": [{\"colorbar\": {\"outlinewidth\": 0, \"ticks\": \"\"}, \"colorscale\": [[0.0, \"#0d0887\"], [0.1111111111111111, \"#46039f\"], [0.2222222222222222, \"#7201a8\"], [0.3333333333333333, \"#9c179e\"], [0.4444444444444444, \"#bd3786\"], [0.5555555555555556, \"#d8576b\"], [0.6666666666666666, \"#ed7953\"], [0.7777777777777778, \"#fb9f3a\"], [0.8888888888888888, \"#fdca26\"], [1.0, \"#f0f921\"]], \"type\": \"heatmap\"}], \"heatmapgl\": [{\"colorbar\": {\"outlinewidth\": 0, \"ticks\": \"\"}, \"colorscale\": [[0.0, \"#0d0887\"], [0.1111111111111111, \"#46039f\"], [0.2222222222222222, \"#7201a8\"], [0.3333333333333333, \"#9c179e\"], [0.4444444444444444, \"#bd3786\"], [0.5555555555555556, \"#d8576b\"], [0.6666666666666666, \"#ed7953\"], [0.7777777777777778, \"#fb9f3a\"], [0.8888888888888888, \"#fdca26\"], [1.0, \"#f0f921\"]], \"type\": \"heatmapgl\"}], \"histogram\": [{\"marker\": {\"colorbar\": {\"outlinewidth\": 0, \"ticks\": \"\"}}, \"type\": \"histogram\"}], \"histogram2d\": [{\"colorbar\": {\"outlinewidth\": 0, \"ticks\": \"\"}, \"colorscale\": [[0.0, \"#0d0887\"], [0.1111111111111111, \"#46039f\"], [0.2222222222222222, \"#7201a8\"], [0.3333333333333333, \"#9c179e\"], [0.4444444444444444, \"#bd3786\"], [0.5555555555555556, \"#d8576b\"], [0.6666666666666666, \"#ed7953\"], [0.7777777777777778, \"#fb9f3a\"], [0.8888888888888888, \"#fdca26\"], [1.0, \"#f0f921\"]], \"type\": \"histogram2d\"}], \"histogram2dcontour\": [{\"colorbar\": {\"outlinewidth\": 0, \"ticks\": \"\"}, \"colorscale\": [[0.0, \"#0d0887\"], [0.1111111111111111, \"#46039f\"], [0.2222222222222222, \"#7201a8\"], [0.3333333333333333, \"#9c179e\"], [0.4444444444444444, \"#bd3786\"], [0.5555555555555556, \"#d8576b\"], [0.6666666666666666, \"#ed7953\"], [0.7777777777777778, \"#fb9f3a\"], [0.8888888888888888, \"#fdca26\"], [1.0, \"#f0f921\"]], \"type\": \"histogram2dcontour\"}], \"mesh3d\": [{\"colorbar\": {\"outlinewidth\": 0, \"ticks\": \"\"}, \"type\": \"mesh3d\"}], \"parcoords\": [{\"line\": {\"colorbar\": {\"outlinewidth\": 0, \"ticks\": \"\"}}, \"type\": \"parcoords\"}], \"pie\": [{\"automargin\": true, \"type\": \"pie\"}], \"scatter\": [{\"marker\": {\"colorbar\": {\"outlinewidth\": 0, \"ticks\": \"\"}}, \"type\": \"scatter\"}], \"scatter3d\": [{\"line\": {\"colorbar\": {\"outlinewidth\": 0, \"ticks\": \"\"}}, \"marker\": {\"colorbar\": {\"outlinewidth\": 0, \"ticks\": \"\"}}, \"type\": \"scatter3d\"}], \"scattercarpet\": [{\"marker\": {\"colorbar\": {\"outlinewidth\": 0, \"ticks\": \"\"}}, \"type\": \"scattercarpet\"}], \"scattergeo\": [{\"marker\": {\"colorbar\": {\"outlinewidth\": 0, \"ticks\": \"\"}}, \"type\": \"scattergeo\"}], \"scattergl\": [{\"marker\": {\"colorbar\": {\"outlinewidth\": 0, \"ticks\": \"\"}}, \"type\": \"scattergl\"}], \"scattermapbox\": [{\"marker\": {\"colorbar\": {\"outlinewidth\": 0, \"ticks\": \"\"}}, \"type\": \"scattermapbox\"}], \"scatterpolar\": [{\"marker\": {\"colorbar\": {\"outlinewidth\": 0, \"ticks\": \"\"}}, \"type\": \"scatterpolar\"}], \"scatterpolargl\": [{\"marker\": {\"colorbar\": {\"outlinewidth\": 0, \"ticks\": \"\"}}, \"type\": \"scatterpolargl\"}], \"scatterternary\": [{\"marker\": {\"colorbar\": {\"outlinewidth\": 0, \"ticks\": \"\"}}, \"type\": \"scatterternary\"}], \"surface\": [{\"colorbar\": {\"outlinewidth\": 0, \"ticks\": \"\"}, \"colorscale\": [[0.0, \"#0d0887\"], [0.1111111111111111, \"#46039f\"], [0.2222222222222222, \"#7201a8\"], [0.3333333333333333, \"#9c179e\"], [0.4444444444444444, \"#bd3786\"], [0.5555555555555556, \"#d8576b\"], [0.6666666666666666, \"#ed7953\"], [0.7777777777777778, \"#fb9f3a\"], [0.8888888888888888, \"#fdca26\"], [1.0, \"#f0f921\"]], \"type\": \"surface\"}], \"table\": [{\"cells\": {\"fill\": {\"color\": \"#EBF0F8\"}, \"line\": {\"color\": \"white\"}}, \"header\": {\"fill\": {\"color\": \"#C8D4E3\"}, \"line\": {\"color\": \"white\"}}, \"type\": \"table\"}]}, \"layout\": {\"annotationdefaults\": {\"arrowcolor\": \"#2a3f5f\", \"arrowhead\": 0, \"arrowwidth\": 1}, \"coloraxis\": {\"colorbar\": {\"outlinewidth\": 0, \"ticks\": \"\"}}, \"colorscale\": {\"diverging\": [[0, \"#8e0152\"], [0.1, \"#c51b7d\"], [0.2, \"#de77ae\"], [0.3, \"#f1b6da\"], [0.4, \"#fde0ef\"], [0.5, \"#f7f7f7\"], [0.6, \"#e6f5d0\"], [0.7, \"#b8e186\"], [0.8, \"#7fbc41\"], [0.9, \"#4d9221\"], [1, \"#276419\"]], \"sequential\": [[0.0, \"#0d0887\"], [0.1111111111111111, \"#46039f\"], [0.2222222222222222, \"#7201a8\"], [0.3333333333333333, \"#9c179e\"], [0.4444444444444444, \"#bd3786\"], [0.5555555555555556, \"#d8576b\"], [0.6666666666666666, \"#ed7953\"], [0.7777777777777778, \"#fb9f3a\"], [0.8888888888888888, \"#fdca26\"], [1.0, \"#f0f921\"]], \"sequentialminus\": [[0.0, \"#0d0887\"], [0.1111111111111111, \"#46039f\"], [0.2222222222222222, \"#7201a8\"], [0.3333333333333333, \"#9c179e\"], [0.4444444444444444, \"#bd3786\"], [0.5555555555555556, \"#d8576b\"], [0.6666666666666666, \"#ed7953\"], [0.7777777777777778, \"#fb9f3a\"], [0.8888888888888888, \"#fdca26\"], [1.0, \"#f0f921\"]]}, \"colorway\": [\"#636efa\", \"#EF553B\", \"#00cc96\", \"#ab63fa\", \"#FFA15A\", \"#19d3f3\", \"#FF6692\", \"#B6E880\", \"#FF97FF\", \"#FECB52\"], \"font\": {\"color\": \"#2a3f5f\"}, \"geo\": {\"bgcolor\": \"white\", \"lakecolor\": \"white\", \"landcolor\": \"#E5ECF6\", \"showlakes\": true, \"showland\": true, \"subunitcolor\": \"white\"}, \"hoverlabel\": {\"align\": \"left\"}, \"hovermode\": \"closest\", \"mapbox\": {\"style\": \"light\"}, \"paper_bgcolor\": \"white\", \"plot_bgcolor\": \"#E5ECF6\", \"polar\": {\"angularaxis\": {\"gridcolor\": \"white\", \"linecolor\": \"white\", \"ticks\": \"\"}, \"bgcolor\": \"#E5ECF6\", \"radialaxis\": {\"gridcolor\": \"white\", \"linecolor\": \"white\", \"ticks\": \"\"}}, \"scene\": {\"xaxis\": {\"backgroundcolor\": \"#E5ECF6\", \"gridcolor\": \"white\", \"gridwidth\": 2, \"linecolor\": \"white\", \"showbackground\": true, \"ticks\": \"\", \"zerolinecolor\": \"white\"}, \"yaxis\": {\"backgroundcolor\": \"#E5ECF6\", \"gridcolor\": \"white\", \"gridwidth\": 2, \"linecolor\": \"white\", \"showbackground\": true, \"ticks\": \"\", \"zerolinecolor\": \"white\"}, \"zaxis\": {\"backgroundcolor\": \"#E5ECF6\", \"gridcolor\": \"white\", \"gridwidth\": 2, \"linecolor\": \"white\", \"showbackground\": true, \"ticks\": \"\", \"zerolinecolor\": \"white\"}}, \"shapedefaults\": {\"line\": {\"color\": \"#2a3f5f\"}}, \"ternary\": {\"aaxis\": {\"gridcolor\": \"white\", \"linecolor\": \"white\", \"ticks\": \"\"}, \"baxis\": {\"gridcolor\": \"white\", \"linecolor\": \"white\", \"ticks\": \"\"}, \"bgcolor\": \"#E5ECF6\", \"caxis\": {\"gridcolor\": \"white\", \"linecolor\": \"white\", \"ticks\": \"\"}}, \"title\": {\"x\": 0.05}, \"xaxis\": {\"automargin\": true, \"gridcolor\": \"white\", \"linecolor\": \"white\", \"ticks\": \"\", \"title\": {\"standoff\": 15}, \"zerolinecolor\": \"white\", \"zerolinewidth\": 2}, \"yaxis\": {\"automargin\": true, \"gridcolor\": \"white\", \"linecolor\": \"white\", \"ticks\": \"\", \"title\": {\"standoff\": 15}, \"zerolinecolor\": \"white\", \"zerolinewidth\": 2}}}},\n",
              "                        {\"responsive\": true}\n",
              "                    ).then(function(){\n",
              "                            \n",
              "var gd = document.getElementById('92c55441-6ca8-4613-89bd-b787339a499a');\n",
              "var x = new MutationObserver(function (mutations, observer) {{\n",
              "        var display = window.getComputedStyle(gd).display;\n",
              "        if (!display || display === 'none') {{\n",
              "            console.log([gd, 'removed!']);\n",
              "            Plotly.purge(gd);\n",
              "            observer.disconnect();\n",
              "        }}\n",
              "}});\n",
              "\n",
              "// Listen for the removal of the full notebook cells\n",
              "var notebookContainer = gd.closest('#notebook-container');\n",
              "if (notebookContainer) {{\n",
              "    x.observe(notebookContainer, {childList: true});\n",
              "}}\n",
              "\n",
              "// Listen for the clearing of the current output cell\n",
              "var outputEl = gd.closest('.output');\n",
              "if (outputEl) {{\n",
              "    x.observe(outputEl, {childList: true});\n",
              "}}\n",
              "\n",
              "                        })\n",
              "                };\n",
              "                \n",
              "            </script>\n",
              "        </div>\n",
              "</body>\n",
              "</html>"
            ]
          },
          "metadata": {
            "tags": []
          }
        }
      ]
    },
    {
      "cell_type": "markdown",
      "metadata": {
        "id": "IQHQBKu7Y9hz"
      },
      "source": [
        "## CNN Model"
      ]
    },
    {
      "cell_type": "markdown",
      "metadata": {
        "id": "eGh-xyc_gpC5"
      },
      "source": [
        "we used 3D cubes 100x100x100\n"
      ]
    },
    {
      "cell_type": "code",
      "metadata": {
        "id": "IuQY8ptv99-p"
      },
      "source": [
        "model_2=tf.keras.models.Sequential([\n",
        "  tf.keras.layers.InputLayer(input_shape=train_cubes.element_spec[0].shape[1:]),\n",
        "  tf.keras.layers.Conv3D(filters=64, kernel_size=10,strides=2, activation='relu', name='conv3d_0'),\n",
        "  tf.keras.layers.MaxPool3D(10,strides=2),\n",
        "  tf.keras.layers.Conv3D(filters=32, kernel_size=2, activation='relu', name='conv3d_1'),\n",
        "  tf.keras.layers.MaxPool3D(2),\n",
        "  tf.keras.layers.Conv3D(filters=16, kernel_size=2, activation='relu', name='conv3d_2'),\n",
        "  tf.keras.layers.Flatten(),\n",
        "  tf.keras.layers.Dense(train_cubes.element_spec[1].shape[-1], activation='softmax', name='softmax')\n",
        "])\n"
      ],
      "execution_count": 12,
      "outputs": []
    },
    {
      "cell_type": "code",
      "metadata": {
        "id": "lXU_EKC8AByv"
      },
      "source": [
        "optimizer = tf.keras.optimizers.Adamax(lr=1e-3)\n",
        "model_2.compile(loss='categorical_crossentropy', optimizer='adam', \n",
        "              metrics=['accuracy']\n",
        "              )\n"
      ],
      "execution_count": 13,
      "outputs": []
    },
    {
      "cell_type": "code",
      "metadata": {
        "colab": {
          "base_uri": "https://localhost:8080/"
        },
        "id": "GaMv4vJoq7ox",
        "outputId": "8b60c5ec-5afa-4cc5-8643-c3e98a7327a3"
      },
      "source": [
        "model_2.summary()"
      ],
      "execution_count": 14,
      "outputs": [
        {
          "output_type": "stream",
          "text": [
            "Model: \"sequential\"\n",
            "_________________________________________________________________\n",
            "Layer (type)                 Output Shape              Param #   \n",
            "=================================================================\n",
            "conv3d_0 (Conv3D)            (None, 46, 46, 46, 64)    64064     \n",
            "_________________________________________________________________\n",
            "max_pooling3d (MaxPooling3D) (None, 19, 19, 19, 64)    0         \n",
            "_________________________________________________________________\n",
            "conv3d_1 (Conv3D)            (None, 18, 18, 18, 32)    16416     \n",
            "_________________________________________________________________\n",
            "max_pooling3d_1 (MaxPooling3 (None, 9, 9, 9, 32)       0         \n",
            "_________________________________________________________________\n",
            "conv3d_2 (Conv3D)            (None, 8, 8, 8, 16)       4112      \n",
            "_________________________________________________________________\n",
            "flatten (Flatten)            (None, 8192)              0         \n",
            "_________________________________________________________________\n",
            "softmax (Dense)              (None, 5)                 40965     \n",
            "=================================================================\n",
            "Total params: 125,557\n",
            "Trainable params: 125,557\n",
            "Non-trainable params: 0\n",
            "_________________________________________________________________\n"
          ],
          "name": "stdout"
        }
      ]
    },
    {
      "cell_type": "code",
      "metadata": {
        "id": "d_KSwJrV6sLR"
      },
      "source": [
        "# model_2.optimizer = optimizer\n",
        "train_cubes = train_cubes.cache()\n",
        "val_cubes=val_cubes.cache()"
      ],
      "execution_count": 15,
      "outputs": []
    },
    {
      "cell_type": "code",
      "metadata": {
        "colab": {
          "base_uri": "https://localhost:8080/"
        },
        "id": "BeKp0bIFGUL-",
        "outputId": "b7223931-a2e3-4c07-90b5-a4cdfa17b095"
      },
      "source": [
        "epochs=10\n",
        "history=model_2.fit(train_cubes, validation_data =val_cubes,\n",
        "                      epochs=epochs,\n",
        "                      # steps_per_epoch=split//batch_size,\n",
        "                      # validation_steps = int(length - split)//batch_size\n",
        "                      )"
      ],
      "execution_count": 16,
      "outputs": [
        {
          "output_type": "stream",
          "text": [
            "Epoch 1/10\n",
            "35/35 [==============================] - 102s 2s/step - loss: 1.3745 - accuracy: 0.4890 - val_loss: 0.6901 - val_accuracy: 0.8427\n",
            "Epoch 2/10\n",
            "35/35 [==============================] - 37s 1s/step - loss: 0.6194 - accuracy: 0.7863 - val_loss: 0.2738 - val_accuracy: 0.9274\n",
            "Epoch 3/10\n",
            "35/35 [==============================] - 37s 1s/step - loss: 0.3486 - accuracy: 0.8815 - val_loss: 0.1225 - val_accuracy: 0.9718\n",
            "Epoch 4/10\n",
            "35/35 [==============================] - 37s 1s/step - loss: 0.2523 - accuracy: 0.9079 - val_loss: 0.0940 - val_accuracy: 0.9758\n",
            "Epoch 5/10\n",
            "35/35 [==============================] - 38s 1s/step - loss: 0.2042 - accuracy: 0.9232 - val_loss: 0.0865 - val_accuracy: 0.9718\n",
            "Epoch 6/10\n",
            "35/35 [==============================] - 37s 1s/step - loss: 0.1721 - accuracy: 0.9380 - val_loss: 0.0763 - val_accuracy: 0.9758\n",
            "Epoch 7/10\n",
            "35/35 [==============================] - 37s 1s/step - loss: 0.1454 - accuracy: 0.9497 - val_loss: 0.0738 - val_accuracy: 0.9798\n",
            "Epoch 8/10\n",
            "35/35 [==============================] - 37s 1s/step - loss: 0.1170 - accuracy: 0.9623 - val_loss: 0.0689 - val_accuracy: 0.9839\n",
            "Epoch 9/10\n",
            "35/35 [==============================] - 37s 1s/step - loss: 0.0987 - accuracy: 0.9677 - val_loss: 0.0695 - val_accuracy: 0.9839\n",
            "Epoch 10/10\n",
            "35/35 [==============================] - 37s 1s/step - loss: 0.0800 - accuracy: 0.9735 - val_loss: 0.0680 - val_accuracy: 0.9839\n"
          ],
          "name": "stdout"
        }
      ]
    },
    {
      "cell_type": "code",
      "metadata": {
        "colab": {
          "base_uri": "https://localhost:8080/",
          "height": 336
        },
        "id": "OyyA_uZJrQeu",
        "outputId": "60691b99-9a82-44fa-aa31-d38fa4cd32ec"
      },
      "source": [
        "import matplotlib.pyplot as plt\n",
        " \n",
        "loss = history.history['loss']\n",
        "val_loss = history.history['val_loss']\n",
        "accuracy = history.history['accuracy']\n",
        "val_accuracy = history.history['val_accuracy']\n",
        "epoch_scale = range(1,len(loss)+1)\n",
        "fig = plt.figure(figsize=(15,5))\n",
        "ax=fig.add_subplot(1,2,1)\n",
        "ax.set_title('a) Loss')\n",
        "ax.plot(epoch_scale, loss)\n",
        "ax.plot(epoch_scale, val_loss)\n",
        "ax.legend([\"training\", \"validation\"])\n",
        "# ax.axes.margins(0)\n",
        "ax1=fig.add_subplot(1,2,2)\n",
        "ax1.set_title('b) Accuracy')\n",
        "ax1.plot(epoch_scale, accuracy)\n",
        "ax1.plot(epoch_scale, val_accuracy)\n",
        "ax1.legend([\"training\", \"validation\"])\n",
        "\n",
        "fig.show()"
      ],
      "execution_count": 18,
      "outputs": [
        {
          "output_type": "display_data",
          "data": {
            "image/png": "[encoded data removed]",
            "text/plain": [
              "<Figure size 1080x360 with 2 Axes>"
            ]
          },
          "metadata": {
            "tags": [],
            "needs_background": "light"
          }
        }
      ]
    },
    {
      "cell_type": "code",
      "metadata": {
        "colab": {
          "base_uri": "https://localhost:8080/"
        },
        "id": "CEDB4W9gGOaY",
        "outputId": "d4b2f11a-e26e-4826-9b80-ccd3a4bb1062"
      },
      "source": [
        "initial_epoch=epochs\n",
        "epochs=epochs+10\n",
        "history=model_2.fit(train_cubes, validation_data =val_cubes,\n",
        "                      epochs=epochs,\n",
        "                      initial_epoch = initial_epoch,\n",
        "                      # steps_per_epoch=split//batch_size,\n",
        "                      # validation_steps = int(length - split)//batch_size\n",
        "                      )"
      ],
      "execution_count": 19,
      "outputs": [
        {
          "output_type": "stream",
          "text": [
            "Epoch 11/20\n",
            "35/35 [==============================] - 38s 1s/step - loss: 0.0640 - accuracy: 0.9784 - val_loss: 0.0689 - val_accuracy: 0.9839\n",
            "Epoch 12/20\n",
            "35/35 [==============================] - 37s 1s/step - loss: 0.0478 - accuracy: 0.9870 - val_loss: 0.0787 - val_accuracy: 0.9839\n",
            "Epoch 13/20\n",
            "35/35 [==============================] - 37s 1s/step - loss: 0.0372 - accuracy: 0.9901 - val_loss: 0.0810 - val_accuracy: 0.9839\n",
            "Epoch 14/20\n",
            "35/35 [==============================] - 37s 1s/step - loss: 0.0286 - accuracy: 0.9937 - val_loss: 0.0828 - val_accuracy: 0.9839\n",
            "Epoch 15/20\n",
            "35/35 [==============================] - 37s 1s/step - loss: 0.0228 - accuracy: 0.9955 - val_loss: 0.0893 - val_accuracy: 0.9879\n",
            "Epoch 16/20\n",
            "35/35 [==============================] - 37s 1s/step - loss: 0.0185 - accuracy: 0.9960 - val_loss: 0.0932 - val_accuracy: 0.9879\n",
            "Epoch 17/20\n",
            "35/35 [==============================] - 37s 1s/step - loss: 0.0154 - accuracy: 0.9982 - val_loss: 0.0973 - val_accuracy: 0.9879\n",
            "Epoch 18/20\n",
            "35/35 [==============================] - 37s 1s/step - loss: 0.0138 - accuracy: 0.9978 - val_loss: 0.1062 - val_accuracy: 0.9839\n",
            "Epoch 19/20\n",
            "35/35 [==============================] - 37s 1s/step - loss: 0.0125 - accuracy: 0.9982 - val_loss: 0.1090 - val_accuracy: 0.9839\n",
            "Epoch 20/20\n",
            "35/35 [==============================] - 37s 1s/step - loss: 0.0115 - accuracy: 0.9982 - val_loss: 0.1095 - val_accuracy: 0.9839\n"
          ],
          "name": "stdout"
        }
      ]
    },
    {
      "cell_type": "code",
      "metadata": {
        "id": "QZu9Rr2zuWBv"
      },
      "source": [
        "loss=[*loss, *history.history['loss']]\n",
        "val_loss =[*val_loss, *history.history['val_loss']]\n",
        "accuracy =[*accuracy, *history.history['accuracy']]\n",
        "val_accuracy =[*val_accuracy, *history.history['val_accuracy']]\n",
        "epoch_scale = range(1,len(loss)+1)\n"
      ],
      "execution_count": 20,
      "outputs": []
    },
    {
      "cell_type": "code",
      "metadata": {
        "colab": {
          "base_uri": "https://localhost:8080/",
          "height": 336
        },
        "id": "KkzbYCYq7y5F",
        "outputId": "adcfa2eb-9a63-4b2d-ac48-912fd1a287ae"
      },
      "source": [
        "\n",
        "fig = plt.figure(figsize=(15,5))\n",
        "ax=fig.add_subplot(1,2,1)\n",
        "ax.set_title('Loss')\n",
        "ax.plot(epoch_scale, loss)\n",
        "ax.plot(epoch_scale, val_loss)\n",
        "ax.legend([\"training\", \"validation\"])\n",
        "# ax.axes.margins(0)\n",
        "ax1=fig.add_subplot(1,2,2)\n",
        "ax1.set_title('Accuracy')\n",
        "ax1.plot(epoch_scale, accuracy)\n",
        "ax1.plot(epoch_scale, val_accuracy)\n",
        "ax1.legend([\"training\", \"validation\"])\n",
        "\n",
        "fig.show()"
      ],
      "execution_count": 21,
      "outputs": [
        {
          "output_type": "display_data",
          "data": {
            "image/png": "[encoded data removed]",
            "text/plain": [
              "<Figure size 1080x360 with 2 Axes>"
            ]
          },
          "metadata": {
            "tags": [],
            "needs_background": "light"
          }
        }
      ]
    },
    {
      "cell_type": "markdown",
      "metadata": {
        "id": "jZ_J4yaxgYyx"
      },
      "source": [
        "for 20 epochs the same result is getting\n",
        "so 10 epochs is enaugh"
      ]
    },
    {
      "cell_type": "markdown",
      "metadata": {
        "id": "XgYxakD9MMdr"
      },
      "source": [
        "We got 98% accuracy for our 3D images of RF-Matrices, and these images is invariant to the number of trees in the matrices or order of entry of trees to the matrix eather"
      ]
    },
    {
      "cell_type": "markdown",
      "metadata": {
        "id": "dN405zd6nTyy"
      },
      "source": [
        "##Confusion matrix"
      ]
    },
    {
      "cell_type": "code",
      "metadata": {
        "id": "p8fpkqi1nXag"
      },
      "source": [
        "validation_array = np.array(list(val_cubes.unbatch().as_numpy_iterator()),dtype=object)\n",
        "test_x = np.stack(validation_array[:,0])\n",
        "test_y = np.stack(validation_array[:,1])\n"
      ],
      "execution_count": 22,
      "outputs": []
    },
    {
      "cell_type": "code",
      "metadata": {
        "id": "KUquE58Bu54j"
      },
      "source": [
        "\n",
        "# Use the model to predict the labels\n",
        "test_predictions = model_2.predict(test_x,steps=test_x.shape[0])\n",
        "test_y_pred = np.argmax(test_predictions, axis=1)\n",
        "test_y_true = np.argmax(test_y, axis=1)"
      ],
      "execution_count": 23,
      "outputs": []
    },
    {
      "cell_type": "code",
      "metadata": {
        "colab": {
          "base_uri": "https://localhost:8080/"
        },
        "id": "DW49EsZ2nclT",
        "outputId": "3d460c13-0254-408c-b8df-541efa75af77"
      },
      "source": [
        "from sklearn.metrics import confusion_matrix\n",
        "confMat=confusion_matrix( test_y_pred,test_y_true)\n",
        "print( np.sum(np.diag(confMat))/len(test_y_true))"
      ],
      "execution_count": 24,
      "outputs": [
        {
          "output_type": "stream",
          "text": [
            "0.9838709677419355\n"
          ],
          "name": "stdout"
        }
      ]
    },
    {
      "cell_type": "code",
      "metadata": {
        "colab": {
          "base_uri": "https://localhost:8080/",
          "height": 585
        },
        "id": "IkCdkpU7njJ3",
        "outputId": "67ab3f12-4e6c-462e-ff95-712a7b43f305"
      },
      "source": [
        "import itertools\n",
        "import io\n",
        "from tensorflow.image import decode_png\n",
        "\n",
        "def plot_confusion_matrix(cm, class_names):\n",
        "  \"\"\"\n",
        "  Returns a matplotlib figure containing the plotted confusion matrix.\n",
        "\n",
        "  Args:\n",
        "    cm (array, shape = [n, n]): a confusion matrix of integer classes\n",
        "    class_names (array, shape = [n]): String names of the integer classes\n",
        "  \"\"\"\n",
        "  figure = plt.figure(figsize=(8, 8))\n",
        "  plt.imshow(cm, interpolation='nearest', cmap=plt.cm.Blues)\n",
        "  plt.title(\"Confusion matrix\")\n",
        "  plt.colorbar()\n",
        "  tick_marks = np.arange(len(class_names))\n",
        "  plt.xticks(tick_marks, class_names, rotation=90)\n",
        "  plt.yticks(tick_marks, class_names)\n",
        "\n",
        "  # Normalize the confusion matrix.\n",
        "  cm = np.around(cm.astype(np.float) / cm.sum(axis=1)[:, np.newaxis], decimals=2)\n",
        "\n",
        "  # Use white text if squares are dark; otherwise black.\n",
        "  threshold = cm.max() / 2.\n",
        "  for i, j in itertools.product(range(cm.shape[0]), range(cm.shape[1])):\n",
        "    color = \"white\" if cm[i, j] > threshold else \"black\"\n",
        "    plt.text(j, i, cm[i, j], horizontalalignment=\"center\", color=color)\n",
        "\n",
        "  plt.tight_layout()\n",
        "  plt.ylabel('True label')\n",
        "  plt.xlabel('Predicted label')\n",
        "  # return figure\n",
        "\n",
        "plot_confusion_matrix(confMat,class_names=('one','two','three','four','five'))"
      ],
      "execution_count": 25,
      "outputs": [
        {
          "output_type": "display_data",
          "data": {
            "image/png": "[encoded data removed]",
            "text/plain": [
              "<Figure size 576x576 with 2 Axes>"
            ]
          },
          "metadata": {
            "tags": [],
            "needs_background": "light"
          }
        }
      ]
    },
    {
      "cell_type": "markdown",
      "metadata": {
        "id": "cS76nfJRCJzY"
      },
      "source": [
        "## Checking"
      ]
    },
    {
      "cell_type": "code",
      "metadata": {
        "id": "uxOBN3gf_vzp"
      },
      "source": [
        "from sklearn.cluster import AffinityPropagation\n",
        "fh = url.urlopen( 'https://github.com/TahiriNadia/ML_DL_Classification_Trees/raw/master/data/SARS-CoV-2/matrice_SARS-CoV-2')\n",
        "\n",
        "fh.readline() #frist row\n",
        "mCOV=[]\n",
        "\n",
        "while True:\n",
        "  line = fh.readline()\n",
        "  if not line:\n",
        "    break\n",
        "  values_i = np.array(line.split(), dtype=np.float)\n",
        "  mCOV.append(values_i )\n",
        "mCOV = np.vstack(mCOV)\n",
        "mCOV = mCOV/np.max(mCOV)\n"
      ],
      "execution_count": 26,
      "outputs": []
    },
    {
      "cell_type": "code",
      "metadata": {
        "colab": {
          "base_uri": "https://localhost:8080/",
          "height": 282
        },
        "id": "-CfiPitzOxxd",
        "outputId": "34b3a724-835f-4986-85b7-14a83153ec6d"
      },
      "source": [
        "plt.imshow(mCOV)"
      ],
      "execution_count": 27,
      "outputs": [
        {
          "output_type": "execute_result",
          "data": {
            "text/plain": [
              "<matplotlib.image.AxesImage at 0x7f3d6a0eeed0>"
            ]
          },
          "metadata": {
            "tags": []
          },
          "execution_count": 27
        },
        {
          "output_type": "display_data",
          "data": {
            "image/png": "[encoded data removed]",
            "text/plain": [
              "<Figure size 432x288 with 1 Axes>"
            ]
          },
          "metadata": {
            "tags": [],
            "needs_background": "light"
          }
        }
      ]
    },
    {
      "cell_type": "code",
      "metadata": {
        "colab": {
          "base_uri": "https://localhost:8080/",
          "height": 282
        },
        "id": "eFvwHv7QO4KM",
        "outputId": "49814bb5-5298-4892-f7be-e5cb4b829de4"
      },
      "source": [
        "def permute_RF(expl):\n",
        "  ind=np.random.permutation(np.arange(expl.shape[0]))\n",
        "  permuted_trees=expl[ind,:]\n",
        "  permuted_trees=permuted_trees[:,ind]\n",
        "  return permuted_trees\n",
        "\n",
        "permutedCONV =permute_RF(mCOV)\n",
        "plt.imshow(permutedCONV)"
      ],
      "execution_count": 28,
      "outputs": [
        {
          "output_type": "execute_result",
          "data": {
            "text/plain": [
              "<matplotlib.image.AxesImage at 0x7f3d6a061ed0>"
            ]
          },
          "metadata": {
            "tags": []
          },
          "execution_count": 28
        },
        {
          "output_type": "display_data",
          "data": {
            "image/png": "[encoded data removed]",
            "text/plain": [
              "<Figure size 432x288 with 1 Axes>"
            ]
          },
          "metadata": {
            "tags": [],
            "needs_background": "light"
          }
        }
      ]
    },
    {
      "cell_type": "markdown",
      "metadata": {
        "id": "wBJA1ihZKlta"
      },
      "source": [
        "### Our method\n",
        "Composes two learned models into a pipeline and are infers a cluster number on second model output"
      ]
    },
    {
      "cell_type": "code",
      "metadata": {
        "colab": {
          "base_uri": "https://localhost:8080/"
        },
        "id": "vbuLUUZRL-h1",
        "outputId": "0ba18e02-7396-4d0d-9988-d7f71ef5412e"
      },
      "source": [
        "model_2.input_shape"
      ],
      "execution_count": 29,
      "outputs": [
        {
          "output_type": "execute_result",
          "data": {
            "text/plain": [
              "(None, 100, 100, 100, 1)"
            ]
          },
          "metadata": {
            "tags": []
          },
          "execution_count": 29
        }
      ]
    },
    {
      "cell_type": "code",
      "metadata": {
        "id": "Ru29saMRB67k"
      },
      "source": [
        "def theMethod(RF_matrix):\n",
        "  ind,val,_ = to_3DCube(RF_matrix,length = RF_matrix.shape[0] )\n",
        "  cube = tf.SparseTensor(ind,tf.squeeze(val),(100,100,100))\n",
        "  cube = tf.expand_dims(\n",
        "                        tf.sparse.to_dense(cube,default_value=0,validate_indices=False),\n",
        "                        axis=-1)\n",
        "  # embeddings= Encoder.predict(np.expand_dims(dist,axis=-1))\n",
        "  res = model_2.predict(tf.expand_dims(cube,axis=0))\n",
        "  print(res)\n",
        "  return np.argmax(res[0])+1\n"
      ],
      "execution_count": 30,
      "outputs": []
    },
    {
      "cell_type": "markdown",
      "metadata": {
        "id": "oSQ_sJlmn1mz"
      },
      "source": [
        "### Affinity Propagation method\n",
        "Gets input a distance matrix and outputs clastered data\n",
        "[Affinity Propagation](https://scikit-learn.org/stable/modules/clustering.html#affinity-propagation)\n"
      ]
    },
    {
      "cell_type": "code",
      "metadata": {
        "colab": {
          "base_uri": "https://localhost:8080/"
        },
        "id": "5fbL3FKLPdkO",
        "outputId": "6df84bba-fabf-4afe-f72f-3ca002b962aa"
      },
      "source": [
        "from sklearn.cluster import AffinityPropagation\n",
        "AffinityPropagation().fit_predict(X=mCOV)"
      ],
      "execution_count": 31,
      "outputs": [
        {
          "output_type": "execute_result",
          "data": {
            "text/plain": [
              "array([0, 0, 0, 3, 0, 0, 0, 1, 0, 2, 3, 3])"
            ]
          },
          "metadata": {
            "tags": []
          },
          "execution_count": 31
        }
      ]
    },
    {
      "cell_type": "markdown",
      "metadata": {
        "id": "GoiF1-nIGCoZ"
      },
      "source": [
        "AffinityPropagation predicts 4 clusters for mCOV"
      ]
    },
    {
      "cell_type": "code",
      "metadata": {
        "id": "HbdNsZuNUuvv"
      },
      "source": [
        "np.set_printoptions(precision=2)\n"
      ],
      "execution_count": 32,
      "outputs": []
    },
    {
      "cell_type": "code",
      "metadata": {
        "colab": {
          "base_uri": "https://localhost:8080/"
        },
        "id": "QSbCorHjFRpn",
        "outputId": "9db5eaf0-c5bb-4f14-808f-ad488411b7ee"
      },
      "source": [
        "theMethod(mCOV)"
      ],
      "execution_count": 33,
      "outputs": [
        {
          "output_type": "stream",
          "text": [
            "WARNING:tensorflow:Using a while_loop for converting HistogramFixedWidth\n",
            "[[9.94e-01 2.90e-06 5.70e-03 9.70e-05 3.38e-06]]\n"
          ],
          "name": "stdout"
        },
        {
          "output_type": "execute_result",
          "data": {
            "text/plain": [
              "1"
            ]
          },
          "metadata": {
            "tags": []
          },
          "execution_count": 33
        }
      ]
    },
    {
      "cell_type": "code",
      "metadata": {
        "colab": {
          "base_uri": "https://localhost:8080/"
        },
        "id": "JXucw6LZPi7T",
        "outputId": "b338562a-448a-499e-ff1a-25f377815f12"
      },
      "source": [
        "theMethod(permutedCONV)"
      ],
      "execution_count": 34,
      "outputs": [
        {
          "output_type": "stream",
          "text": [
            "[[9.94e-01 2.90e-06 5.70e-03 9.70e-05 3.38e-06]]\n"
          ],
          "name": "stdout"
        },
        {
          "output_type": "execute_result",
          "data": {
            "text/plain": [
              "1"
            ]
          },
          "metadata": {
            "tags": []
          },
          "execution_count": 34
        }
      ]
    }
  ]
}